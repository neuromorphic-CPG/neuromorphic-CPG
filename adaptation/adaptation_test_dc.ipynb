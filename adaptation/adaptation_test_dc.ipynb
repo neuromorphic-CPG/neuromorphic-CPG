{
 "metadata": {
  "language_info": {
   "codemirror_mode": {
    "name": "ipython",
    "version": 3
   },
   "file_extension": ".py",
   "mimetype": "text/x-python",
   "name": "python",
   "nbconvert_exporter": "python",
   "pygments_lexer": "ipython3",
   "version": "3.8.5"
  },
  "orig_nbformat": 2,
  "kernelspec": {
   "name": "python385jvsc74a57bd0916dbcbb3f70747c44a77c7bcd40155683ae19c65e1c03b4aa3499c5328201f1",
   "display_name": "Python 3.8.5 64-bit"
  },
  "metadata": {
   "interpreter": {
    "hash": "916dbcbb3f70747c44a77c7bcd40155683ae19c65e1c03b4aa3499c5328201f1"
   }
  }
 },
 "nbformat": 4,
 "nbformat_minor": 2,
 "cells": [
  {
   "cell_type": "code",
   "execution_count": null,
   "metadata": {},
   "outputs": [],
   "source": [
    "import matplotlib.pyplot as plt\n",
    "import numpy as np\n",
    "import parameters \n",
    "import device \n",
    "import network\n",
    "import numpy as np"
   ]
  },
  {
   "cell_type": "code",
   "execution_count": null,
   "metadata": {},
   "outputs": [],
   "source": [
    "dynapse = device.DynapseDevice(sender_port=12321, receiver_port=12322)\n",
    "model = dynapse.model"
   ]
  },
  {
   "cell_type": "code",
   "execution_count": null,
   "metadata": {},
   "outputs": [],
   "source": [
    "num_neurons = 15\n",
    "neuron_ids1 = np.arange(1,num_neurons+1)\n",
    "neuron_ids2 = np.arange(num_neurons+1, 2*num_neurons+1)\n",
    "num_all_neurons = 2*num_neurons\n",
    "neuron_ids = np.arange(1, num_all_neurons+1)\n",
    "\n",
    "# init a network generator\n",
    "net = network.DynapseNetworkGenerator()\n",
    "neurons1 = net.get_neurons(0, 0, neuron_ids1)\n",
    "neurons2 = net.get_neurons(0, 0, neuron_ids2)\n",
    "\n",
    "net.add_connections_all_to_all(neurons1, neurons1, network.SYNAPSE_AMPA, weight=1, probability=0.8)\n",
    "net.add_connections_all_to_all(neurons2, neurons2, network.SYNAPSE_AMPA, weight=1, probability=0.8)\n",
    "net.add_connections_all_to_all(neurons1, neurons2, network.SYNAPSE_GABA_B, weight=1, probability=1)\n",
    "net.add_connections_all_to_all(neurons2, neurons1, network.SYNAPSE_GABA_B, weight=1, probability=1)\n",
    "\n",
    "dynapse.monitor_neuron_network(neurons1+neurons2)\n",
    "model.apply_configuration(net.get_config())"
   ]
  },
  {
   "cell_type": "code",
   "execution_count": null,
   "metadata": {},
   "outputs": [],
   "source": [
    "# # set params\n",
    "parameters.set_all_default_params(model)\n",
    "parameters.set_param(model, parameters.NEURON_DC_INPUT, (3,50), 0, 0)\n",
    "parameters.set_param(model, parameters.AMPA_WEIGHT, (6, 44), 0, 0)\n",
    "parameters.set_param(model, parameters.GABA_B_WEIGHT, (5,46), 0, 0)\n",
    "#parameters.set_param(model, parameters.AMPA_LEAKAGE, (2,80), 0, 0)\n",
    "\n",
    "parameters.set_param(model, parameters.ADAPTATION_CASCODE, (0,0), 0, 0)\n",
    "parameters.set_param(model, parameters.ADAPTATION_WEIGHT, (0,0), 0, 0)\n",
    "parameters.set_param(model, parameters.ADAPTATION_LEAKAGE, (0,0), 0, 0)\n",
    "parameters.set_param(model, parameters.ADAPTATION_GAIN, (0,0), 0, 0)\n",
    "\n",
    "duration1 = 2\n",
    "duration_stop = 1\n",
    "duration2 = 6\n",
    "spikes = []\n",
    "\n",
    "dynapse.start_graph()\n",
    "dynapse.run_simulation(0.1) # bug with clearing the buffer at the moment - need to run the simulation for a little \n",
    "\n",
    "these_spikes = dynapse.run_simulation(duration1)\n",
    "spikes_array = np.vstack(([spike.timestamp for spike in these_spikes],[spike.id for spike in these_spikes])).T\n",
    "pop_freq = len(spikes_array)/duration1/num_all_neurons\n",
    "print('Population frequency f is %f Hz.' %pop_freq)\n",
    "pop1 = np.where(spikes_array[:,1] < num_neurons+1)\n",
    "pop1_freq = len(pop1[0])/num_neurons/duration1\n",
    "pop2 = np.where(spikes_array[:,1] > num_neurons)\n",
    "pop2_freq = len(pop2[0])/num_neurons/duration1\n",
    "print('Pop1 frequency f is %f Hz.' %pop1_freq)\n",
    "print('Pop2 frequency f is %f Hz.' %pop2_freq)\n",
    "spikes += these_spikes\n",
    "\n",
    "parameters.set_param(model, parameters.NEURON_DC_INPUT, (0,0), 0, 0)\n",
    "parameters.set_param(model, parameters.AMPA_WEIGHT, (0, 0), 0, 0)\n",
    "these_spikes = dynapse.run_simulation(duration_stop)\n",
    "spikes_array = np.vstack(([spike.timestamp for spike in these_spikes],[spike.id for spike in these_spikes])).T\n",
    "pop_freq = len(spikes_array)/duration_stop/num_all_neurons\n",
    "print('Population frequency f is %f Hz.' %pop_freq)\n",
    "spikes += these_spikes\n",
    "\n",
    "parameters.set_param(model, parameters.NEURON_DC_INPUT, (3,50), 0, 0)\n",
    "parameters.set_param(model, parameters.AMPA_WEIGHT, (6, 44), 0, 0)\n",
    "parameters.set_param(model, parameters.ADAPTATION_CASCODE, (5,150), 0, 0)\n",
    "parameters.set_param(model, parameters.ADAPTATION_WEIGHT, (6,130), 0, 0)\n",
    "parameters.set_param(model, parameters.ADAPTATION_LEAKAGE, (3,100), 0, 0)\n",
    "parameters.set_param(model, parameters.ADAPTATION_GAIN, (4,125), 0, 0)\n",
    "these_spikes = dynapse.run_simulation(duration2)\n",
    "spikes_array = np.vstack(([spike.timestamp for spike in these_spikes],[spike.id for spike in these_spikes])).T\n",
    "pop_freq = len(spikes_array)/duration2/num_all_neurons\n",
    "print('Population frequency f is %f Hz.' %pop_freq)\n",
    "pop1 = np.where(spikes_array[:,1] < num_neurons+1)\n",
    "pop1_freq = len(pop1[0])/num_neurons/duration2\n",
    "pop2 = np.where(spikes_array[:,1] > num_neurons)\n",
    "pop2_freq = len(pop2[0])/num_neurons/duration2\n",
    "print('Pop1 frequency f is %f Hz.' %pop1_freq)\n",
    "print('Pop2 frequency f is %f Hz.' %pop2_freq)\n",
    "spikes += these_spikes\n",
    "\n",
    "dynapse.stop_graph()\n",
    "\n",
    "spikes = np.vstack(([spike.timestamp for spike in spikes],[spike.id for spike in spikes])).T\n",
    "spikes[:,0] -= spikes[0,0]\n",
    "\n",
    "plt.figure(figsize=[15,8])\n",
    "plt.plot(spikes[:,0]/1000, spikes[:,1], '|')\n",
    "plt.ylabel('Neuron ID')\n",
    "plt.xlabel('Time (ms)')\n",
    "plt.show()\n"
   ]
  },
  {
   "cell_type": "code",
   "execution_count": null,
   "metadata": {},
   "outputs": [],
   "source": [
    "plt.figure(figsize=[15,8])\n",
    "plt.plot(spikes[:,0]/1000, spikes[:,1], '|')\n",
    "plt.ylabel('Neuron ID')\n",
    "plt.xlabel('Time (ms)')\n",
    "plt.xlim([0,2000])\n",
    "plt.show()"
   ]
  },
  {
   "cell_type": "code",
   "execution_count": null,
   "metadata": {
    "tags": []
   },
   "outputs": [],
   "source": [
    "plt.figure(figsize=[15,8])\n",
    "rates = []\n",
    "\n",
    "neuron_ids = np.arange(1, num_all_neurons+1)\n",
    "for neuron_id in neuron_ids:\n",
    "    where_id = np.where(spikes[:,1] == neuron_id)\n",
    "    neuron_rates = 1e6/np.diff(spikes[where_id,0]) # in sec \n",
    "    neuron_rates = neuron_rates[0]\n",
    "    rates.append(neuron_rates)\n",
    "    plt.plot(neuron_rates, label = 'id %s' %neuron_id)\n",
    "plt.legend()\n",
    "plt.ylabel('Frequency')\n",
    "plt.show()\n",
    "\n",
    "plt.figure(figsize=[15,8])\n",
    "id = 1\n",
    "plt.plot(rates[id], '.', label = 'id %s' %id)\n",
    "plt.legend()\n",
    "plt.ylabel('Frequency')\n",
    "real_id = id + 1\n",
    "plt.title('Neuron id %s' %real_id)\n",
    "plt.show()"
   ]
  },
  {
   "cell_type": "code",
   "execution_count": null,
   "metadata": {},
   "outputs": [],
   "source": [
    "f0 = all_freqs[0]\n",
    "l0 = f0.tolist()\n",
    "f1 = all_freqs[1]\n",
    "l1 = f1.tolist()\n",
    "print(l0)\n",
    "print(l0+l1)"
   ]
  },
  {
   "cell_type": "code",
   "execution_count": null,
   "metadata": {},
   "outputs": [],
   "source": [
    "fig, axs = plt.subplots(1,2,figsize=(25,10))\n",
    "axs[0].plot(spikes[:,0]/1000, spikes[:,1], '|')\n",
    "axs[1].plot(vary, all_pop_freqs)\n",
    "axs[0].set_ylabel('Neuron ID')\n",
    "axs[0].set_xlabel('Time (ms)')\n",
    "axs[1].set_ylabel('frequency')\n",
    "axs[1].set_xlabel('DC fine values for coarse 3')\n",
    "plt.show()"
   ]
  },
  {
   "cell_type": "code",
   "execution_count": null,
   "metadata": {},
   "outputs": [],
   "source": [
    "sorted_spikes_array = np.sort(spikes_array, axis=0)\n",
    "\n",
    "plt.figure(figsize=[15,8])\n",
    "for neuron_id in neuron_ids:\n",
    "    where_id = np.where(spikes_array[:,1] == neuron_id)\n",
    "    neuron_id_freq = 1e6/np.diff(spikes_array[where_id,0]) # in sec \n",
    "    neuron_id_freq = neuron_id_freq[0]\n",
    "    plt.plot(neuron_id_freq, label = 'id %s' %neuron_id)\n",
    "plt.legend()\n",
    "\n",
    "\n",
    "\n",
    "\n",
    "# print(spikes_array[:,0])"
   ]
  },
  {
   "cell_type": "code",
   "execution_count": null,
   "metadata": {
    "tags": []
   },
   "outputs": [],
   "source": [
    "fig, axs = plt.subplots(1,2,figsize=(25,10))\n",
    "axs[0].plot(spikes_array[:,0]/1000, spikes_array[:,1], '|')\n",
    "axs[1].plot(pop_spikes)\n",
    "axs[0].set_xlim([0,100])\n",
    "axs[0].set_ylabel('Neuron ID')\n",
    "axs[1].set_ylabel('frequency')\n",
    "plt.show()"
   ]
  },
  {
   "cell_type": "code",
   "execution_count": null,
   "metadata": {},
   "outputs": [],
   "source": [
    "print(spikes[:,1])"
   ]
  },
  {
   "cell_type": "code",
   "execution_count": null,
   "metadata": {},
   "outputs": [],
   "source": []
  }
 ]
}
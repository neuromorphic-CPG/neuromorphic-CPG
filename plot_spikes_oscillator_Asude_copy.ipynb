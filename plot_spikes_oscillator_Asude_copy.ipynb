{
 "cells": [
  {
   "cell_type": "markdown",
   "metadata": {},
   "source": [
    "# Analyse adaptive CPG output"
   ]
  },
  {
   "cell_type": "code",
   "execution_count": 2,
   "metadata": {},
   "outputs": [
    {
     "output_type": "stream",
     "name": "stdout",
     "text": [
      "/home/asude/.local/lib/python3.8/site-packages/samna\n",
      "finished bindings\n"
     ]
    }
   ],
   "source": [
    "import matplotlib.pyplot as plt\n",
    "import numpy as np\n",
    "import parameters \n",
    "import device \n",
    "import network\n",
    "import plotting\n",
    "import numpy as np"
   ]
  },
  {
   "cell_type": "code",
   "execution_count": 10,
   "metadata": {},
   "outputs": [
    {
     "output_type": "stream",
     "name": "stdout",
     "text": [
      "ERROR: Address already in use, please re-run open_device()!\n"
     ]
    },
    {
     "output_type": "error",
     "ename": "RuntimeError",
     "evalue": "Trying to use an already taken remote store name!",
     "traceback": [
      "\u001b[0;31m---------------------------------------------------------------------------\u001b[0m",
      "\u001b[0;31mRuntimeError\u001b[0m                              Traceback (most recent call last)",
      "\u001b[0;32m<ipython-input-10-16ec4cca2908>\u001b[0m in \u001b[0;36m<module>\u001b[0;34m\u001b[0m\n\u001b[1;32m      1\u001b[0m \u001b[0;31m# open DYNAP-SE1 board to get Dynapse1Model\u001b[0m\u001b[0;34m\u001b[0m\u001b[0;34m\u001b[0m\u001b[0;34m\u001b[0m\u001b[0m\n\u001b[0;32m----> 2\u001b[0;31m \u001b[0mdynapse\u001b[0m \u001b[0;34m=\u001b[0m \u001b[0mdevice\u001b[0m\u001b[0;34m.\u001b[0m\u001b[0mDynapseDevice\u001b[0m\u001b[0;34m(\u001b[0m\u001b[0msender_port\u001b[0m\u001b[0;34m=\u001b[0m\u001b[0;36m12328\u001b[0m\u001b[0;34m,\u001b[0m \u001b[0mreceiver_port\u001b[0m\u001b[0;34m=\u001b[0m\u001b[0;36m12329\u001b[0m\u001b[0;34m)\u001b[0m\u001b[0;34m\u001b[0m\u001b[0;34m\u001b[0m\u001b[0m\n\u001b[0m\u001b[1;32m      3\u001b[0m \u001b[0mmodel\u001b[0m \u001b[0;34m=\u001b[0m \u001b[0mdynapse\u001b[0m\u001b[0;34m.\u001b[0m\u001b[0mmodel\u001b[0m\u001b[0;34m\u001b[0m\u001b[0;34m\u001b[0m\u001b[0m\n",
      "\u001b[0;32m/home/class_NI2021/CPG/dynapse_wrapper/device.py\u001b[0m in \u001b[0;36m__init__\u001b[0;34m(self, device_name, gui, sender_port, receiver_port)\u001b[0m\n\u001b[1;32m     12\u001b[0m         \u001b[0;32mdef\u001b[0m \u001b[0m__init__\u001b[0m\u001b[0;34m(\u001b[0m\u001b[0mself\u001b[0m\u001b[0;34m,\u001b[0m \u001b[0mdevice_name\u001b[0m\u001b[0;34m=\u001b[0m\u001b[0;34m\"my_dynapse1\"\u001b[0m\u001b[0;34m,\u001b[0m \u001b[0mgui\u001b[0m\u001b[0;34m=\u001b[0m\u001b[0;32mFalse\u001b[0m\u001b[0;34m,\u001b[0m \u001b[0msender_port\u001b[0m\u001b[0;34m=\u001b[0m\u001b[0;36m12345\u001b[0m\u001b[0;34m,\u001b[0m \u001b[0mreceiver_port\u001b[0m\u001b[0;34m=\u001b[0m\u001b[0;36m12346\u001b[0m\u001b[0;34m)\u001b[0m \u001b[0;34m->\u001b[0m \u001b[0;32mNone\u001b[0m\u001b[0;34m:\u001b[0m\u001b[0;34m\u001b[0m\u001b[0;34m\u001b[0m\u001b[0m\n\u001b[1;32m     13\u001b[0m                 \u001b[0mself\u001b[0m\u001b[0;34m.\u001b[0m\u001b[0mdevice_name\u001b[0m \u001b[0;34m=\u001b[0m \u001b[0mdevice_name\u001b[0m\u001b[0;34m\u001b[0m\u001b[0;34m\u001b[0m\u001b[0m\n\u001b[0;32m---> 14\u001b[0;31m                 \u001b[0mself\u001b[0m\u001b[0;34m.\u001b[0m\u001b[0mstore\u001b[0m \u001b[0;34m=\u001b[0m \u001b[0mut\u001b[0m\u001b[0;34m.\u001b[0m\u001b[0mopen_dynapse1\u001b[0m\u001b[0;34m(\u001b[0m\u001b[0mdevice_name\u001b[0m\u001b[0;34m,\u001b[0m \u001b[0mgui\u001b[0m\u001b[0;34m,\u001b[0m \u001b[0msender_port\u001b[0m\u001b[0;34m,\u001b[0m \u001b[0mreceiver_port\u001b[0m\u001b[0;34m)\u001b[0m\u001b[0;34m\u001b[0m\u001b[0;34m\u001b[0m\u001b[0m\n\u001b[0m\u001b[1;32m     15\u001b[0m                 \u001b[0mself\u001b[0m\u001b[0;34m.\u001b[0m\u001b[0mmodel\u001b[0m \u001b[0;34m=\u001b[0m \u001b[0mgetattr\u001b[0m\u001b[0;34m(\u001b[0m\u001b[0mself\u001b[0m\u001b[0;34m.\u001b[0m\u001b[0mstore\u001b[0m\u001b[0;34m,\u001b[0m \u001b[0mdevice_name\u001b[0m\u001b[0;34m)\u001b[0m\u001b[0;34m\u001b[0m\u001b[0;34m\u001b[0m\u001b[0m\n\u001b[1;32m     16\u001b[0m \u001b[0;34m\u001b[0m\u001b[0m\n",
      "\u001b[0;32m/home/class_NI2021/CPG/ctxctl_contrib/Dynapse1Utils.py\u001b[0m in \u001b[0;36mopen_dynapse1\u001b[0;34m(device_name, gui, sender_port, receiver_port)\u001b[0m\n\u001b[1;32m     90\u001b[0m         \u001b[0mreceiver_port\u001b[0m\u001b[0;34m=\u001b[0m\u001b[0;36m33335\u001b[0m\u001b[0;34m\u001b[0m\u001b[0;34m\u001b[0m\u001b[0m\n\u001b[1;32m     91\u001b[0m \u001b[0;34m\u001b[0m\u001b[0m\n\u001b[0;32m---> 92\u001b[0;31m     \u001b[0mstore\u001b[0m\u001b[0;34m,\u001b[0m \u001b[0msamna_info_dict\u001b[0m \u001b[0;34m=\u001b[0m \u001b[0mopen_device\u001b[0m\u001b[0;34m(\u001b[0m\u001b[0mdevice_name\u001b[0m\u001b[0;34m,\u001b[0m \u001b[0msender_port\u001b[0m\u001b[0;34m,\u001b[0m \u001b[0mreceiver_port\u001b[0m\u001b[0;34m)\u001b[0m\u001b[0;34m\u001b[0m\u001b[0;34m\u001b[0m\u001b[0m\n\u001b[0m\u001b[1;32m     93\u001b[0m \u001b[0;34m\u001b[0m\u001b[0m\n\u001b[1;32m     94\u001b[0m     \u001b[0;32mif\u001b[0m \u001b[0mgui\u001b[0m\u001b[0;34m:\u001b[0m\u001b[0;34m\u001b[0m\u001b[0;34m\u001b[0m\u001b[0m\n",
      "\u001b[0;32m/home/class_NI2021/CPG/ctxctl_contrib/Dynapse1Utils.py\u001b[0m in \u001b[0;36mopen_device\u001b[0;34m(device_name, sender_port, receiver_port)\u001b[0m\n\u001b[1;32m     45\u001b[0m     \u001b[0msamna\u001b[0m\u001b[0;34m.\u001b[0m\u001b[0msetup_local_node\u001b[0m\u001b[0;34m(\u001b[0m\u001b[0mreceiver_endpoint\u001b[0m\u001b[0;34m,\u001b[0m \u001b[0msender_endpoint\u001b[0m\u001b[0;34m,\u001b[0m \u001b[0minterpreter_id\u001b[0m\u001b[0;34m)\u001b[0m\u001b[0;34m\u001b[0m\u001b[0;34m\u001b[0m\u001b[0m\n\u001b[1;32m     46\u001b[0m     \u001b[0;31m# open a connection to device_node, i.e. the store\u001b[0m\u001b[0;34m\u001b[0m\u001b[0;34m\u001b[0m\u001b[0;34m\u001b[0m\u001b[0m\n\u001b[0;32m---> 47\u001b[0;31m     \u001b[0msamna\u001b[0m\u001b[0;34m.\u001b[0m\u001b[0mopen_remote_node\u001b[0m\u001b[0;34m(\u001b[0m\u001b[0mnode_id\u001b[0m\u001b[0;34m,\u001b[0m \u001b[0;34m\"device_node\"\u001b[0m\u001b[0;34m)\u001b[0m\u001b[0;34m\u001b[0m\u001b[0;34m\u001b[0m\u001b[0m\n\u001b[0m\u001b[1;32m     48\u001b[0m     \u001b[0;31m# ----------- connect Python to C++ ----------------\u001b[0m\u001b[0;34m\u001b[0m\u001b[0;34m\u001b[0m\u001b[0;34m\u001b[0m\u001b[0m\n\u001b[1;32m     49\u001b[0m \u001b[0;34m\u001b[0m\u001b[0m\n",
      "\u001b[0;31mRuntimeError\u001b[0m: Trying to use an already taken remote store name!"
     ]
    }
   ],
   "source": [
    "# open DYNAP-SE1 board to get Dynapse1Model\n",
    "dynapse = device.DynapseDevice(sender_port=12328, receiver_port=12329)\n",
    "model = dynapse.model"
   ]
  },
  {
   "cell_type": "code",
   "execution_count": 4,
   "metadata": {},
   "outputs": [
    {
     "output_type": "stream",
     "name": "stdout",
     "text": [
      "Checking if the given network is valid to be deployed on DYNAP-SE1 chips...\nValidation complete: the network is good to go!\nConverted the validated network to a Dynapse1 configuration!\n"
     ]
    }
   ],
   "source": [
    "chip = 2\n",
    "core_e1 = 0\n",
    "core_e2 = 1\n",
    "core_i = 2\n",
    "\n",
    "duration = 2\n",
    "\n",
    "neuron_ids_E1 = np.arange(11,19)\n",
    "neuron_ids_E2 = neuron_ids_E1 + neuron_ids_E1.size\n",
    "neuron_ids_I1 = [3]\n",
    "neuron_ids_I2 =[4]\n",
    "\n",
    "# init a network generator\n",
    "net = network.DynapseNetworkGenerator()\n",
    "\n",
    "neurons_E1 = net.get_neurons(chip, core_e1, neuron_ids_E1)\n",
    "neurons_I1 = net.get_neurons(chip, core_i, neuron_ids_I1)\n",
    "neurons_E2 = net.get_neurons(chip, core_e2, neuron_ids_E2)\n",
    "neurons_I2 = net.get_neurons(chip, core_i, neuron_ids_I2)\n",
    "\n",
    "net.add_connections_all_to_all(neurons_E1, neurons_E1, network.SYNAPSE_AMPA)\n",
    "net.add_connections_all_to_all(neurons_E1, neurons_I1, network.SYNAPSE_AMPA, weight=4)\n",
    "net.add_connections_all_to_all(neurons_I1, neurons_E1, network.SYNAPSE_GABA_B, weight=8)\n",
    "\n",
    "net.add_connections_all_to_all(neurons_E2, neurons_E2, network.SYNAPSE_AMPA)\n",
    "net.add_connections_all_to_all(neurons_E2, neurons_I2, network.SYNAPSE_AMPA, weight=4)\n",
    "net.add_connections_all_to_all(neurons_I2, neurons_E2, network.SYNAPSE_GABA_B, weight=8)\n",
    "\n",
    "# coupling\n",
    "net.add_connections_all_to_all(neurons_I1, neurons_I2, network.SYNAPSE_GABA_B)\n",
    "net.add_connections_all_to_all(neurons_I2, neurons_I1, network.SYNAPSE_GABA_B)\n",
    "\n",
    "dynapse.monitor_neuron_network(neurons_E1, neurons_E2, neurons_I1, neurons_I2)\n",
    "\n",
    "model.apply_configuration(net.get_config())"
   ]
  },
  {
   "cell_type": "code",
   "execution_count": 6,
   "metadata": {},
   "outputs": [
    {
     "output_type": "error",
     "ename": "IndexError",
     "evalue": "index 0 is out of bounds for axis 0 with size 0",
     "traceback": [
      "\u001b[0;31m---------------------------------------------------------------------------\u001b[0m",
      "\u001b[0;31mIndexError\u001b[0m                                Traceback (most recent call last)",
      "\u001b[0;32m<ipython-input-6-956fe75dffd0>\u001b[0m in \u001b[0;36m<module>\u001b[0;34m\u001b[0m\n\u001b[1;32m     24\u001b[0m \u001b[0;34m\u001b[0m\u001b[0m\n\u001b[1;32m     25\u001b[0m \u001b[0;31m# plotting.plot_spikes(dynapse, spikes)\u001b[0m\u001b[0;34m\u001b[0m\u001b[0;34m\u001b[0m\u001b[0;34m\u001b[0m\u001b[0m\n\u001b[0;32m---> 26\u001b[0;31m \u001b[0mplotting\u001b[0m\u001b[0;34m.\u001b[0m\u001b[0mplot_spikes_and_frequencies\u001b[0m\u001b[0;34m(\u001b[0m\u001b[0mdynapse\u001b[0m\u001b[0;34m,\u001b[0m \u001b[0mspikes\u001b[0m\u001b[0;34m,\u001b[0m \u001b[0mfigsize\u001b[0m\u001b[0;34m=\u001b[0m\u001b[0;34m(\u001b[0m\u001b[0;36m15\u001b[0m\u001b[0;34m,\u001b[0m\u001b[0;36m8\u001b[0m\u001b[0;34m)\u001b[0m\u001b[0;34m)\u001b[0m\u001b[0;34m\u001b[0m\u001b[0;34m\u001b[0m\u001b[0m\n\u001b[0m",
      "\u001b[0;32m/home/class_NI2021/CPG/dynapse_wrapper/plotting.py\u001b[0m in \u001b[0;36mplot_spikes_and_frequencies\u001b[0;34m(dynapse, spikes, show_params, **figure_kwargs)\u001b[0m\n\u001b[1;32m     50\u001b[0m         \u001b[0mProvide\u001b[0m \u001b[0mextra\u001b[0m \u001b[0margs\u001b[0m \u001b[0mto\u001b[0m \u001b[0mchange\u001b[0m \u001b[0mthe\u001b[0m \u001b[0mfigure\u001b[0m \u001b[0mproperties\u001b[0m \u001b[0;34m(\u001b[0m\u001b[0meg\u001b[0m\u001b[0;34m.\u001b[0m \u001b[0mfigsize\u001b[0m\u001b[0;34m)\u001b[0m\u001b[0;34m.\u001b[0m\u001b[0;34m\u001b[0m\u001b[0;34m\u001b[0m\u001b[0m\n\u001b[1;32m     51\u001b[0m \t'''\n\u001b[0;32m---> 52\u001b[0;31m         \u001b[0mspikes_array\u001b[0m \u001b[0;34m=\u001b[0m \u001b[0mconvert_spikes_to_array\u001b[0m\u001b[0;34m(\u001b[0m\u001b[0mspikes\u001b[0m\u001b[0;34m)\u001b[0m\u001b[0;34m\u001b[0m\u001b[0;34m\u001b[0m\u001b[0m\n\u001b[0m\u001b[1;32m     53\u001b[0m \u001b[0;34m\u001b[0m\u001b[0m\n\u001b[1;32m     54\u001b[0m         \u001b[0mfig\u001b[0m\u001b[0;34m,\u001b[0m \u001b[0maxs\u001b[0m \u001b[0;34m=\u001b[0m \u001b[0mplt\u001b[0m\u001b[0;34m.\u001b[0m\u001b[0msubplots\u001b[0m\u001b[0;34m(\u001b[0m\u001b[0;36m1\u001b[0m\u001b[0;34m,\u001b[0m\u001b[0;36m2\u001b[0m\u001b[0;34m,\u001b[0m \u001b[0msharey\u001b[0m\u001b[0;34m=\u001b[0m\u001b[0;32mTrue\u001b[0m\u001b[0;34m,\u001b[0m \u001b[0mgridspec_kw\u001b[0m\u001b[0;34m=\u001b[0m\u001b[0;34m{\u001b[0m\u001b[0;34m'width_ratios'\u001b[0m\u001b[0;34m:\u001b[0m \u001b[0;34m[\u001b[0m\u001b[0;36m3\u001b[0m\u001b[0;34m,\u001b[0m\u001b[0;36m1\u001b[0m\u001b[0;34m]\u001b[0m\u001b[0;34m}\u001b[0m\u001b[0;34m,\u001b[0m \u001b[0;34m**\u001b[0m\u001b[0mfigure_kwargs\u001b[0m\u001b[0;34m)\u001b[0m\u001b[0;34m\u001b[0m\u001b[0;34m\u001b[0m\u001b[0m\n",
      "\u001b[0;32m/home/class_NI2021/CPG/dynapse_wrapper/plotting.py\u001b[0m in \u001b[0;36mconvert_spikes_to_array\u001b[0;34m(spikes)\u001b[0m\n\u001b[1;32m     12\u001b[0m \t'''\n\u001b[1;32m     13\u001b[0m         \u001b[0mspikes_array\u001b[0m \u001b[0;34m=\u001b[0m \u001b[0mnp\u001b[0m\u001b[0;34m.\u001b[0m\u001b[0mvstack\u001b[0m\u001b[0;34m(\u001b[0m\u001b[0;34m(\u001b[0m\u001b[0;34m[\u001b[0m\u001b[0mspike\u001b[0m\u001b[0;34m.\u001b[0m\u001b[0mtimestamp\u001b[0m \u001b[0;32mfor\u001b[0m \u001b[0mspike\u001b[0m \u001b[0;32min\u001b[0m \u001b[0mspikes\u001b[0m\u001b[0;34m]\u001b[0m\u001b[0;34m,\u001b[0m\u001b[0;34m[\u001b[0m\u001b[0mspike\u001b[0m\u001b[0;34m.\u001b[0m\u001b[0mid\u001b[0m \u001b[0;32mfor\u001b[0m \u001b[0mspike\u001b[0m \u001b[0;32min\u001b[0m \u001b[0mspikes\u001b[0m\u001b[0;34m]\u001b[0m\u001b[0;34m)\u001b[0m\u001b[0;34m)\u001b[0m\u001b[0;34m.\u001b[0m\u001b[0mT\u001b[0m\u001b[0;34m\u001b[0m\u001b[0;34m\u001b[0m\u001b[0m\n\u001b[0;32m---> 14\u001b[0;31m         \u001b[0mspikes_array\u001b[0m\u001b[0;34m[\u001b[0m\u001b[0;34m:\u001b[0m\u001b[0;34m,\u001b[0m\u001b[0;36m0\u001b[0m\u001b[0;34m]\u001b[0m \u001b[0;34m=\u001b[0m \u001b[0;34m(\u001b[0m\u001b[0mspikes_array\u001b[0m\u001b[0;34m[\u001b[0m\u001b[0;34m:\u001b[0m\u001b[0;34m,\u001b[0m\u001b[0;36m0\u001b[0m\u001b[0;34m]\u001b[0m \u001b[0;34m-\u001b[0m \u001b[0mspikes_array\u001b[0m\u001b[0;34m[\u001b[0m\u001b[0;36m0\u001b[0m\u001b[0;34m,\u001b[0m\u001b[0;36m0\u001b[0m\u001b[0;34m]\u001b[0m\u001b[0;34m)\u001b[0m \u001b[0;34m/\u001b[0m \u001b[0;36m1000\u001b[0m\u001b[0;34m\u001b[0m\u001b[0;34m\u001b[0m\u001b[0m\n\u001b[0m\u001b[1;32m     15\u001b[0m         \u001b[0;32mreturn\u001b[0m \u001b[0mspikes_array\u001b[0m\u001b[0;34m\u001b[0m\u001b[0;34m\u001b[0m\u001b[0m\n\u001b[1;32m     16\u001b[0m \u001b[0;34m\u001b[0m\u001b[0m\n",
      "\u001b[0;31mIndexError\u001b[0m: index 0 is out of bounds for axis 0 with size 0"
     ]
    }
   ],
   "source": [
    "# set params\n",
    "parameters.set_all_default_params(model)\n",
    "\n",
    "# Core e1 parameters\n",
    "parameters.set_param(model, parameters.AMPA_WEIGHT, (7,40), chip, core_e1)\n",
    "parameters.set_param(model, parameters.NEURON_DC_INPUT, (2,40), chip, core_e1)\n",
    "parameters.set_param(model, parameters.GABA_B_WEIGHT, (7,255), chip, core_e1)\n",
    "parameters.set_param(model, parameters.GABA_B_GAIN, (7,255), chip, core_e1)\n",
    "\n",
    "# core e2 parameters \n",
    "parameters.set_param(model, parameters.AMPA_WEIGHT, (7,40), chip, core_e2)\n",
    "parameters.set_param(model, parameters.NEURON_DC_INPUT, (2,40), chip, core_e2)\n",
    "parameters.set_param(model, parameters.GABA_B_WEIGHT, (7,255), chip, core_e2)\n",
    "parameters.set_param(model, parameters.GABA_B_GAIN, (7,255), chip, core_e2)\n",
    "\n",
    "# Core i parameters\n",
    "parameters.set_param(model, parameters.AMPA_WEIGHT, (5,70), chip, core_i)\n",
    "parameters.set_param(model, parameters.GABA_B_WEIGHT, (7,255), chip, core_i)\n",
    "parameters.set_param(model, parameters.GABA_B_LEAKAGE, (2,40), chip, core_i)\n",
    "parameters.set_param(model, parameters.GABA_B_GAIN, (7,255), chip, core_i)\n",
    "\n",
    "dynapse.start_graph()\n",
    "spikes = dynapse.run_simulation(10)\n",
    "\n",
    "# plotting.plot_spikes(dynapse, spikes)\n",
    "plotting.plot_spikes_and_frequencies(dynapse, spikes, figsize=(15,8))\n"
   ]
  },
  {
   "cell_type": "code",
   "execution_count": null,
   "metadata": {},
   "outputs": [],
   "source": [
    "I1_spikes = plotting.extract_spikes_group(plotting.convert_spikes_to_array(spikes), dynapse.monitored_neuron_groups[2])\n",
    "I2_spikes = plotting.extract_spikes_group(plotting.convert_spikes_to_array(spikes), dynapse.monitored_neuron_groups[3])\n",
    "T1 = np.mean(np.diff(I1_spikes[:,0]))\n",
    "T2 = np.mean(np.diff(I2_spikes[:,0]))\n",
    "print(f'E1 firing rate: {1000/T1:.4f} Hz')\n",
    "print(f'E2 firing rate: {1000/T2:.4f} Hz')\n",
    "print(f'phase diff = {np.mean(I1_spikes[:min(I1_spikes.shape[0],I2_spikes.shape[0]),0]-I2_spikes[:min(I1_spikes.shape[0],I2_spikes.shape[0]),0]) / (T1+T2)*2 * 360} deg')"
   ]
  },
  {
   "cell_type": "code",
   "execution_count": null,
   "metadata": {},
   "outputs": [],
   "source": [
    "lol = I1_spikes[:min(I1_spikes.shape[0],I2_spikes.shape[0]),0]-I2_spikes[:min(I1_spikes.shape[0],I2_spikes.shape[0]),0]\n",
    "print(lol)\n",
    "print(T1)"
   ]
  },
  {
   "cell_type": "code",
   "execution_count": null,
   "metadata": {},
   "outputs": [],
   "source": [
    "plotting.plot_interspike_intervals_hist(spikes, neuron_ids_I1, 10, figsize=(15,8))"
   ]
  },
  {
   "cell_type": "code",
   "execution_count": 12,
   "metadata": {},
   "outputs": [],
   "source": [
    "import pickle\n",
    "with open('data/adaptation_property--2021_05_14-12:36:19_PM.txt','rb') as f:\n",
    "\tspikes = pickle.load(f)"
   ]
  },
  {
   "cell_type": "code",
   "execution_count": 15,
   "metadata": {
    "tags": []
   },
   "outputs": [],
   "source": [
    "from typing import List"
   ]
  },
  {
   "cell_type": "code",
   "execution_count": 17,
   "metadata": {},
   "outputs": [
    {
     "output_type": "error",
     "ename": "NameError",
     "evalue": "name 'convert_spikes_to_array' is not defined",
     "traceback": [
      "\u001b[0;31m---------------------------------------------------------------------------\u001b[0m",
      "\u001b[0;31mNameError\u001b[0m                                 Traceback (most recent call last)",
      "\u001b[0;32m<ipython-input-17-afd6e383f37f>\u001b[0m in \u001b[0;36m<module>\u001b[0;34m\u001b[0m\n\u001b[1;32m     19\u001b[0m         \u001b[0mplt\u001b[0m\u001b[0;34m.\u001b[0m\u001b[0mylabel\u001b[0m\u001b[0;34m(\u001b[0m\u001b[0;34m'Inter spike interval'\u001b[0m\u001b[0;34m)\u001b[0m\u001b[0;34m\u001b[0m\u001b[0;34m\u001b[0m\u001b[0m\n\u001b[1;32m     20\u001b[0m \u001b[0;34m\u001b[0m\u001b[0m\n\u001b[0;32m---> 21\u001b[0;31m \u001b[0mplot_interspike_intervals_hist\u001b[0m\u001b[0;34m(\u001b[0m\u001b[0mspikes\u001b[0m\u001b[0;34m,\u001b[0m \u001b[0mneuron_ids_I1\u001b[0m\u001b[0;34m)\u001b[0m\u001b[0;34m\u001b[0m\u001b[0;34m\u001b[0m\u001b[0m\n\u001b[0m",
      "\u001b[0;32m<ipython-input-17-afd6e383f37f>\u001b[0m in \u001b[0;36mplot_interspike_intervals_hist\u001b[0;34m(spikes, group, show_hist, bin_size, **figure_kwargs)\u001b[0m\n\u001b[1;32m      1\u001b[0m \u001b[0;32mdef\u001b[0m \u001b[0mplot_interspike_intervals_hist\u001b[0m\u001b[0;34m(\u001b[0m\u001b[0mspikes\u001b[0m\u001b[0;34m:\u001b[0m \u001b[0mList\u001b[0m\u001b[0;34m[\u001b[0m\u001b[0mdevice\u001b[0m\u001b[0;34m.\u001b[0m\u001b[0mSpike\u001b[0m\u001b[0;34m]\u001b[0m\u001b[0;34m,\u001b[0m \u001b[0mgroup\u001b[0m\u001b[0;34m:\u001b[0m \u001b[0mList\u001b[0m\u001b[0;34m[\u001b[0m\u001b[0mint\u001b[0m\u001b[0;34m]\u001b[0m\u001b[0;34m,\u001b[0m \u001b[0mshow_hist\u001b[0m \u001b[0;34m=\u001b[0m \u001b[0;32mTrue\u001b[0m\u001b[0;34m,\u001b[0m \u001b[0mbin_size\u001b[0m \u001b[0;34m=\u001b[0m \u001b[0;36m10\u001b[0m\u001b[0;34m,\u001b[0m \u001b[0;34m**\u001b[0m\u001b[0mfigure_kwargs\u001b[0m\u001b[0;34m)\u001b[0m\u001b[0;34m:\u001b[0m\u001b[0;34m\u001b[0m\u001b[0;34m\u001b[0m\u001b[0m\n\u001b[0;32m----> 2\u001b[0;31m         \u001b[0mspikes_group\u001b[0m \u001b[0;34m=\u001b[0m \u001b[0mplotting\u001b[0m\u001b[0;34m.\u001b[0m\u001b[0mextract_spikes_group\u001b[0m\u001b[0;34m(\u001b[0m\u001b[0mconvert_spikes_to_array\u001b[0m\u001b[0;34m(\u001b[0m\u001b[0mspikes\u001b[0m\u001b[0;34m)\u001b[0m\u001b[0;34m,\u001b[0m \u001b[0mgroup\u001b[0m\u001b[0;34m)\u001b[0m\u001b[0;34m\u001b[0m\u001b[0;34m\u001b[0m\u001b[0m\n\u001b[0m\u001b[1;32m      3\u001b[0m         \u001b[0mISI_array\u001b[0m \u001b[0;34m=\u001b[0m \u001b[0mnp\u001b[0m\u001b[0;34m.\u001b[0m\u001b[0mdiff\u001b[0m\u001b[0;34m(\u001b[0m\u001b[0mspikes_group\u001b[0m\u001b[0;34m[\u001b[0m\u001b[0;34m:\u001b[0m\u001b[0;34m,\u001b[0m\u001b[0;36m0\u001b[0m\u001b[0;34m]\u001b[0m\u001b[0;34m)\u001b[0m \u001b[0;31m# I think this is what you meant to do?\u001b[0m\u001b[0;34m\u001b[0m\u001b[0;34m\u001b[0m\u001b[0m\n\u001b[1;32m      4\u001b[0m \u001b[0;34m\u001b[0m\u001b[0m\n\u001b[1;32m      5\u001b[0m         \u001b[0mplt\u001b[0m\u001b[0;34m.\u001b[0m\u001b[0mhist\u001b[0m\u001b[0;34m(\u001b[0m\u001b[0;34m)\u001b[0m\u001b[0;34m\u001b[0m\u001b[0;34m\u001b[0m\u001b[0m\n",
      "\u001b[0;31mNameError\u001b[0m: name 'convert_spikes_to_array' is not defined"
     ]
    }
   ],
   "source": [
    "def plot_interspike_intervals_hist(spikes: List[device.Spike], group: List[int], show_hist = True, bin_size = 10, **figure_kwargs):\n",
    "\tspikes_group = plotting.extract_spikes_group(convert_spikes_to_array(spikes), group)\n",
    "\tISI_array = np.diff(spikes_group[:,0]) # I think this is what you meant to do?\n",
    "\n",
    "\tplt.hist()\n",
    "\n",
    "\tplt.plot(ISI_array, bins = bin_size, **figure_kwargs)\n",
    "\tplt.title('ISI for group %f'%group)\n",
    "\tplt.ylabel('Inter spike interval')\n",
    "\n",
    "def extract_temporal_groups(spikes: List[device.Spike], group1: List[int], group2: List[int], bin_size = 10, **figure_kwargs):\n",
    "\tspikes_array = extract_spikes_group(spikes, group)\n",
    "\tISI_array = np.diff(ISI_array[:,0])\n",
    "\n",
    "\tplt.hist()\n",
    "\n",
    "\tplt.plot(ISI_array, bins = bin_size, **figure_kwargs)\n",
    "\tplt.title('ISI for group %f'%group)\n",
    "\tplt.ylabel('Inter spike interval')\n",
    "\n",
    "plot_interspike_intervals_hist(spikes, neuron_ids_I1)"
   ]
  },
  {
   "cell_type": "code",
   "execution_count": null,
   "metadata": {},
   "outputs": [],
   "source": []
  }
 ],
 "metadata": {
  "kernelspec": {
   "display_name": "Python 3",
   "language": "python",
   "name": "python3"
  },
  "language_info": {
   "codemirror_mode": {
    "name": "ipython",
    "version": 3
   },
   "file_extension": ".py",
   "mimetype": "text/x-python",
   "name": "python",
   "nbconvert_exporter": "python",
   "pygments_lexer": "ipython3",
   "version": "3.8.5"
  },
  "metadata": {
   "interpreter": {
    "hash": "31f2aee4e71d21fbe5cf8b01ff0e069b9275f58929596ceb00d14d90e3e16cd6"
   }
  },
  "orig_nbformat": 2
 },
 "nbformat": 4,
 "nbformat_minor": 2
}
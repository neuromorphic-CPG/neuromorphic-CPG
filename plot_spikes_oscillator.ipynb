{
 "cells": [
  {
   "cell_type": "markdown",
   "metadata": {},
   "source": [
    "# Analyse adaptive CPG output"
   ]
  },
  {
   "cell_type": "code",
   "execution_count": 1,
   "metadata": {},
   "outputs": [
    {
     "name": "stdout",
     "output_type": "stream",
     "text": [
      "/home/ddallo/.local/lib/python3.8/site-packages/samna\n",
      "finished bindings\n"
     ]
    }
   ],
   "source": [
    "import matplotlib.pyplot as plt\n",
    "import numpy as np\n",
    "import parameters \n",
    "import device \n",
    "import network\n",
    "import numpy as np"
   ]
  },
  {
   "cell_type": "code",
   "execution_count": 2,
   "metadata": {},
   "outputs": [
    {
     "name": "stdout",
     "output_type": "stream",
     "text": [
      "[0]:  Bus 3 Device 22 Dynapse1DevKit serial_number 00000027\n",
      "[1]:  Bus 1 Device 121 Dynapse1DevKit serial_number 00000032\n",
      "[2]:  Bus 1 Device 118 Dynapse1DevKit serial_number 00000000\n",
      "[3]:  Bus 1 Device 120 Dynapse1DevKit serial_number 00000011\n",
      "[4]:  Bus 1 Device 84 Dynapse1DevKit serial_number 00000007\n",
      "[5]:  Bus 1 Device 34 Dynapse1DevKit serial_number 00000020\n",
      "[6]:  Bus 1 Device 87 Dynapse1DevKit serial_number 00000033\n",
      "Sender port: tcp://0.0.0.0:12321\n",
      "Receiver port: tcp://0.0.0.0:12322\n",
      "Opened device name: my_dynapse1\n",
      "SamnaNode ID: 1\n",
      "PythonNode ID: 2\n"
     ]
    }
   ],
   "source": [
    "# open DYNAP-SE1 board to get Dynapse1Model\n",
    "dynapse = device.DynapseDevice(sender_port=12321, receiver_port=12322)\n",
    "model = dynapse.model"
   ]
  },
  {
   "cell_type": "code",
   "execution_count": 273,
   "metadata": {},
   "outputs": [
    {
     "name": "stdout",
     "output_type": "stream",
     "text": [
      "Checking if the given network is valid to be deployed on DYNAP-SE1 chips...\n",
      "Validation complete: the network is good to go!\n",
      "Converted the validated network to a Dynapse1 configuration!\n"
     ]
    }
   ],
   "source": [
    "schip = score = 0\n",
    "sid = 200\n",
    "chip = core_e = 0\n",
    "core_i = 1\n",
    "\n",
    "duration = 2\n",
    "\n",
    "neuron_ids_E1 = np.arange(1,9)\n",
    "neuron_ids_I1 = neuron_ids_E1\n",
    "neuron_ids_E2 = neuron_ids_E1 + neuron_ids_E1.size\n",
    "neuron_ids_I2 = neuron_ids_E2\n",
    "\n",
    "# init a network generator\n",
    "net = network.DynapseNetworkGenerator()\n",
    "\n",
    "spikegen = net.get_spikegen(schip, score, sid)\n",
    "neurons_E1 = net.get_neurons(chip, core_e, neuron_ids_E1)\n",
    "neurons_I1 = net.get_neurons(chip, core_i, neuron_ids_I1)\n",
    "neurons_E2 = net.get_neurons(chip, core_e, neuron_ids_E2)\n",
    "neurons_I2 = net.get_neurons(chip, core_i, neuron_ids_I2)\n",
    "\n",
    "net.add_connections_one_to_all(spikegen, neurons_E1, network.SYNAPSE_AMPA, weight=12)\n",
    "net.add_connections_all_to_all(neurons_E1, neurons_E1, network.SYNAPSE_AMPA, weight=2)\n",
    "net.add_connections_all_to_all(neurons_E1, neurons_I1, network.SYNAPSE_AMPA, weight=2)\n",
    "net.add_connections_all_to_all(neurons_I1, neurons_E1, network.SYNAPSE_GABA_B, weight=1)\n",
    "\n",
    "net.add_connections_one_to_all(spikegen, neurons_E2, network.SYNAPSE_AMPA, weight=12)\n",
    "net.add_connections_all_to_all(neurons_E2, neurons_E2, network.SYNAPSE_AMPA, weight=2)\n",
    "net.add_connections_all_to_all(neurons_E2, neurons_I2, network.SYNAPSE_AMPA, weight=2)\n",
    "net.add_connections_all_to_all(neurons_I2, neurons_E2, network.SYNAPSE_GABA_B, weight=1)\n",
    "# coupling\n",
    "net.add_connections_all_to_all(neurons_E1, neurons_E2, network.SYNAPSE_GABA_B)\n",
    "net.add_connections_all_to_all(neurons_E2, neurons_E1, network.SYNAPSE_GABA_B)\n",
    "# net.add_connections_all_to_all(neurons_I1, neurons_E2, network.SYNAPSE_AMPA)\n",
    "# net.add_connections_all_to_all(neurons_I2, neurons_E1, network.SYNAPSE_AMPA)\n",
    "\n",
    "dynapse.monitor_neuron_network(neurons_E1 + neurons_E2 + neurons_I1 + neurons_I2)\n",
    "# dynapse.monitor_neuron_network(neurons_E1 + neurons_I1)\n",
    "\n",
    "model.apply_configuration(net.get_config())\n",
    "\n",
    "poisson_gen = dynapse.get_poisson_spikegen(20, schip, score, sid)"
   ]
  },
  {
   "cell_type": "code",
   "execution_count": 217,
   "metadata": {},
   "outputs": [
    {
     "data": {
      "text/plain": "8627451.0"
     },
     "execution_count": 217,
     "metadata": {},
     "output_type": "execute_result"
    }
   ],
   "source": [
    "# set params\n",
    "parameters.set_all_default_params(model)\n",
    "parameters.set_param(model, parameters.NEURON_TIME_CONSTANT_1, (4,80), chip, core_e)\n",
    "parameters.set_param(model, parameters.NEURON_TIME_CONSTANT_1, (4,80), chip, core_i)\n",
    "\n",
    "parameters.set_param(model, parameters.AMPA_TIME_CONSTANT, (4,80), chip, core_e)\n",
    "parameters.set_param(model, parameters.GABA_B_TIME_CONSTANT, (4,80), chip, core_e)\n",
    "parameters.set_param(model, parameters.AMPA_TIME_CONSTANT, (4,80), chip, core_i)\n",
    "\n",
    "parameters.set_param(model, parameters.AMPA_WEIGHT, (6,50), chip, core_e)\n",
    "parameters.set_param(model, parameters.GABA_B_WEIGHT, (0,0), chip, core_e)\n",
    "parameters.set_param(model, parameters.AMPA_WEIGHT, (6,20), chip, core_i)\n",
    "parameters.set_param(model, parameters.GABA_B_WEIGHT, (0,0), chip, core_i)\n",
    "# base E @ 35 Hz, I @ 15 Hz\n",
    "\n",
    "parameters.set_param(model, parameters.AMPA_WEIGHT, (6,40), chip, core_e)\n",
    "parameters.set_param(model, parameters.GABA_B_WEIGHT, (5,160), chip, core_e)\n",
    "parameters.set_param(model, parameters.AMPA_WEIGHT, (5,55), chip, core_i)"
   ]
  },
  {
   "cell_type": "code",
   "execution_count": 274,
   "metadata": {},
   "outputs": [
    {
     "data": {
      "image/png": "[encoded data removed]",
      "text/plain": "<Figure size 1080x360 with 2 Axes>"
     },
     "metadata": {
      "needs_background": "light"
     },
     "output_type": "display_data"
    },
    {
     "data": {
      "image/png": "[encoded data removed]",
      "text/plain": "<Figure size 1080x72 with 1 Axes>"
     },
     "metadata": {
      "needs_background": "light"
     },
     "output_type": "display_data"
    },
    {
     "name": "stdout",
     "output_type": "stream",
     "text": [
      "Firing rate e1 = 1.001630654705861 Hz\n",
      "Firing rate e2 = 0.770413650497225 Hz\n"
     ]
    }
   ],
   "source": [
    "poisson_gen.start()\n",
    "dynapse.start_graph()\n",
    "dynapse.run_simulation(0.1) # bug with clearing the buffer at the moment - need to run the simulation for a little bit to do so\n",
    "spikes = dynapse.run_simulation(5)\n",
    "dynapse.stop_graph()\n",
    "poisson_gen.stop()\n",
    "\n",
    "spikes_array = np.vstack(([spike.timestamp for spike in spikes],[spike.id for spike in spikes])).T\n",
    "spikes_array[:,0] -= spikes_array[0,0]\n",
    "\n",
    "exc_spikes = spikes_array[spikes_array[:,1] < 256,:]\n",
    "inh_spikes = spikes_array[spikes_array[:,1] >= 256,:]\n",
    "e1 = exc_spikes[exc_spikes[:,1] <= neuron_ids_E1.size,:]\n",
    "e2 = exc_spikes[exc_spikes[:,1] > neuron_ids_E1.size,:]\n",
    "i1 = inh_spikes[inh_spikes[:,1]-256 <= neuron_ids_I1.size,:]\n",
    "i2 = inh_spikes[inh_spikes[:,1]-256 > neuron_ids_I1.size,:]\n",
    "\n",
    "neuron_indices = np.hstack((neuron_ids_E1,neuron_ids_E2,neuron_ids_I1+256,neuron_ids_I2+256))\n",
    "rates = np.array([np.count_nonzero(spikes_array[:,1] == neuron_index) for neuron_index in neuron_indices]) / (spikes_array[-1,0] - spikes_array[0,0]) * 1000000\n",
    "\n",
    "fig, axs = plt.subplots(1,2,figsize=(15,5))\n",
    "axs[0].plot(e1[:,0]/1000, e1[:,1], '|', label='E1')\n",
    "axs[0].plot(e2[:,0]/1000, e2[:,1], '|', label='E2')\n",
    "axs[0].plot(i1[:,0]/1000, -256+2*neuron_ids_I1.size+i1[:,1], '|', label='I1')\n",
    "axs[0].plot(i2[:,0]/1000, -256+2*neuron_ids_I1.size+i2[:,1], '|', label='I2')\n",
    "axs[0].legend()\n",
    "axs[1].plot(rates, np.arange(1,1+len(neuron_indices)), '.')\n",
    "axs[0].set_ylim([0,32])\n",
    "axs[1].set_ylim([0,32])\n",
    "plt.show()\n",
    "\n",
    "fig, ax = plt.subplots(1,1,figsize=(15,1))\n",
    "ax.plot(e1[:,0]/1000, np.ones_like(e1[:,0]), '|', label='E1')\n",
    "ax.plot(e2[:,0]/1000, 3*np.ones_like(e2[:,0]), '|', label='E2')\n",
    "ax.plot(i1[:,0]/1000, 2*np.ones_like(i1[:,0]), '|', label='I1')\n",
    "ax.plot(i2[:,0]/1000, 4*np.ones_like(i2[:,0]), '|', label='I2')\n",
    "plt.show()\n",
    "\n",
    "end_of_pulse_e1 = e1[np.where(np.diff(e1[:,0] / 1000) > 200), 0][0] / 1000\n",
    "end_of_pulse_e2 = e2[np.where(np.diff(e2[:,0] / 1000) > 200), 0][0] / 1000\n",
    "print(f'Firing rate e1 = {1000 * (len(end_of_pulse_e1) - 1) / (end_of_pulse_e1[-1]-end_of_pulse_e1[0])} Hz')\n",
    "print(f'Firing rate e2 = {1000 * (len(end_of_pulse_e2) - 1) / (end_of_pulse_e2[-1]-end_of_pulse_e2[0])} Hz')"
   ]
  },
  {
   "cell_type": "code",
   "execution_count": 6,
   "metadata": {},
   "outputs": [],
   "source": [
    "import time\n",
    "import cv2\n",
    "from IPython.display import clear_output"
   ]
  },
  {
   "cell_type": "code",
   "execution_count": null,
   "metadata": {},
   "outputs": [
    {
     "ename": "Error",
     "evalue": "Session cannot generate requests",
     "output_type": "error",
     "traceback": [
      "Error: Session cannot generate requests",
      "at w.executeCodeCell (/home/ddallo/.vscode-server/extensions/ms-toolsai.jupyter-2021.6.832593372/out/client/extension.js:90:316184)",
      "at w.execute (/home/ddallo/.vscode-server/extensions/ms-toolsai.jupyter-2021.6.832593372/out/client/extension.js:90:315573)",
      "at w.start (/home/ddallo/.vscode-server/extensions/ms-toolsai.jupyter-2021.6.832593372/out/client/extension.js:90:311378)",
      "at async t.CellExecutionQueue.executeQueuedCells (/home/ddallo/.vscode-server/extensions/ms-toolsai.jupyter-2021.6.832593372/out/client/extension.js:90:325786)",
      "at async t.CellExecutionQueue.start (/home/ddallo/.vscode-server/extensions/ms-toolsai.jupyter-2021.6.832593372/out/client/extension.js:90:325326)"
     ]
    }
   ],
   "source": [
    "poisson_gen.start()\n",
    "dynapse.start_graph()\n",
    "\n",
    "for i in range(100):\n",
    "    spikes = dynapse.sink_node.get_buf()\n",
    "    spike_ids = np.array([1024*spike.chip_id+256*spike.core_id+spike.neuron_id for spike in spikes])\n",
    "    spiking_neurons = np.unique(spike_ids)\n",
    "    rates = np.array([np.count_nonzero(spike_ids == neuron_index) for neuron_index in spiking_neurons])\n",
    "    img = np.zeros(1024)\n",
    "    if len(spikes) > 0:\n",
    "        img[spike_ids] = rates\n",
    "    plt.imshow(np.reshape(img,(32,32)))\n",
    "    plt.title(str(i))\n",
    "    plt.show()\n",
    "    clear_output(wait=True)\n",
    "\n",
    "dynapse.stop_graph()\n",
    "poisson_gen.stop()\n"
   ]
  },
  {
   "cell_type": "code",
   "execution_count": null,
   "metadata": {},
   "outputs": [
    {
     "ename": "Error",
     "evalue": "Session cannot generate requests",
     "output_type": "error",
     "traceback": [
      "Error: Session cannot generate requests",
      "at w.executeCodeCell (/home/ddallo/.vscode-server/extensions/ms-toolsai.jupyter-2021.6.832593372/out/client/extension.js:90:316184)",
      "at w.execute (/home/ddallo/.vscode-server/extensions/ms-toolsai.jupyter-2021.6.832593372/out/client/extension.js:90:315573)",
      "at w.start (/home/ddallo/.vscode-server/extensions/ms-toolsai.jupyter-2021.6.832593372/out/client/extension.js:90:311378)",
      "at async t.CellExecutionQueue.executeQueuedCells (/home/ddallo/.vscode-server/extensions/ms-toolsai.jupyter-2021.6.832593372/out/client/extension.js:90:325786)",
      "at async t.CellExecutionQueue.start (/home/ddallo/.vscode-server/extensions/ms-toolsai.jupyter-2021.6.832593372/out/client/extension.js:90:325326)"
     ]
    }
   ],
   "source": [
    "poisson_gen.start()\n",
    "dynapse.start_graph()\n",
    "\n",
    "for i in range(1000):\n",
    "    spikes = dynapse.sink_node.get_buf()\n",
    "    spike_ids = np.array([1024*spike.chip_id+256*spike.core_id+spike.neuron_id for spike in spikes])\n",
    "    spiking_neurons = np.unique(spike_ids)\n",
    "    rates = np.array([np.count_nonzero(spike_ids == neuron_index) for neuron_index in spiking_neurons])\n",
    "    img = np.zeros(1024)\n",
    "    if len(spikes) > 0:\n",
    "        img[spiking_neurons] = rates\n",
    "    cv2.imshow('dynapse',cv2.resize(np.reshape(img,(32,32)), (128,128), interpolation=cv2.INTER_NEAREST))\n",
    "    cv2.waitKey(10)\n",
    "cv2.destroyAllWindows()\n",
    "\n",
    "dynapse.stop_graph()\n",
    "poisson_gen.stop()"
   ]
  },
  {
   "cell_type": "code",
   "execution_count": 188,
   "metadata": {},
   "outputs": [
    {
     "name": "stdout",
     "output_type": "stream",
     "text": [
      "Checking if the given network is valid to be deployed on DYNAP-SE1 chips...\n",
      "Validation complete: the network is good to go!\n",
      "Converted the validated network to a Dynapse1 configuration!\n"
     ]
    }
   ],
   "source": [
    "schip = score = 0\n",
    "sid = 200\n",
    "chip = core_e = 0\n",
    "core_i = 1\n",
    "\n",
    "duration = 2\n",
    "\n",
    "neuron_ids_E1 = np.arange(1,9)\n",
    "neuron_ids_I1 = neuron_ids_E1\n",
    "neuron_ids_E2 = neuron_ids_E1 + neuron_ids_E1.size\n",
    "neuron_ids_I2 = neuron_ids_E2\n",
    "\n",
    "# init a network generator\n",
    "net = network.DynapseNetworkGenerator()\n",
    "\n",
    "spikegen = net.get_spikegen(schip, score, sid)\n",
    "neurons_E1 = net.get_neurons(chip, core_e, neuron_ids_E1)\n",
    "neurons_I1 = net.get_neurons(chip, core_i, neuron_ids_I1)\n",
    "neurons_E2 = net.get_neurons(chip, core_e, neuron_ids_E2)\n",
    "neurons_I2 = net.get_neurons(chip, core_i, neuron_ids_I2)\n",
    "\n",
    "net.add_connections_one_to_all(spikegen, neurons_E1, network.SYNAPSE_AMPA, weight=8)\n",
    "net.add_connections_all_to_all(neurons_E1, neurons_E1, network.SYNAPSE_AMPA, weight=2)\n",
    "net.add_connections_all_to_all(neurons_E1, neurons_I1, network.SYNAPSE_AMPA, weight=2)\n",
    "net.add_connections_all_to_all(neurons_I1, neurons_E1, network.SYNAPSE_GABA_A, weight=1)\n",
    "\n",
    "net.add_connections_one_to_all(spikegen, neurons_E2, network.SYNAPSE_AMPA, weight=8)\n",
    "net.add_connections_all_to_all(neurons_E2, neurons_E2, network.SYNAPSE_AMPA, weight=2)\n",
    "net.add_connections_all_to_all(neurons_E2, neurons_I2, network.SYNAPSE_AMPA, weight=2)\n",
    "net.add_connections_all_to_all(neurons_I2, neurons_E2, network.SYNAPSE_GABA_A, weight=1)\n",
    "# coupling\n",
    "# net.add_connections_all_to_all(neurons_E1, neurons_E2, network.SYNAPSE_GABA_B)\n",
    "# net.add_connections_all_to_all(neurons_E2, neurons_E1, network.SYNAPSE_GABA_B)\n",
    "# net.add_connections_all_to_all(neurons_I1, neurons_E2, network.SYNAPSE_AMPA)\n",
    "# net.add_connections_all_to_all(neurons_I2, neurons_E1, network.SYNAPSE_AMPA)\n",
    "\n",
    "dynapse.monitor_neuron_network(neurons_E1 + neurons_E2 + neurons_I1 + neurons_I2)\n",
    "# dynapse.monitor_neuron_network(neurons_E1 + neurons_I1)\n",
    "\n",
    "model.apply_configuration(net.get_config())\n",
    "\n",
    "poisson_gen = dynapse.get_poisson_spikegen(20, schip, score, sid)"
   ]
  },
  {
   "cell_type": "code",
   "execution_count": 198,
   "metadata": {},
   "outputs": [
    {
     "data": {
      "text/plain": "0.0"
     },
     "execution_count": 198,
     "metadata": {},
     "output_type": "execute_result"
    }
   ],
   "source": [
    "# set params\n",
    "parameters.set_all_default_params(model)\n",
    "parameters.set_param(model, parameters.NEURON_TIME_CONSTANT_1, (4,80), chip, core_e)\n",
    "parameters.set_param(model, parameters.NEURON_TIME_CONSTANT_1, (4,80), chip, core_i)\n",
    "\n",
    "parameters.set_param(model, parameters.AMPA_TIME_CONSTANT, (4,80), chip, core_e)\n",
    "parameters.set_param(model, parameters.GABA_A_TIME_CONSTANT, (4,80), chip, core_e)\n",
    "parameters.set_param(model, parameters.AMPA_TIME_CONSTANT, (4,80), chip, core_i)\n",
    "\n",
    "parameters.set_param(model, parameters.AMPA_WEIGHT, (6,40), chip, core_e)\n",
    "parameters.set_param(model, parameters.GABA_A_WEIGHT, (7,160), chip, core_e)\n",
    "parameters.set_param(model, parameters.AMPA_WEIGHT, (5,80), chip, core_i)\n",
    "parameters.set_param(model, parameters.GABA_A_WEIGHT, (0,0), chip, core_i)"
   ]
  },
  {
   "cell_type": "code",
   "execution_count": 199,
   "metadata": {},
   "outputs": [
    {
     "data": {
      "image/png": "[encoded data removed]",
      "text/plain": "<Figure size 1080x360 with 2 Axes>"
     },
     "metadata": {
      "needs_background": "light"
     },
     "output_type": "display_data"
    },
    {
     "data": {
      "image/png": "[encoded data removed]",
      "text/plain": "<Figure size 1080x72 with 1 Axes>"
     },
     "metadata": {
      "needs_background": "light"
     },
     "output_type": "display_data"
    }
   ],
   "source": [
    "poisson_gen.start()\n",
    "dynapse.start_graph()\n",
    "dynapse.run_simulation(1)\n",
    "spikes = dynapse.run_simulation(duration)\n",
    "dynapse.stop_graph()\n",
    "poisson_gen.stop()\n",
    "\n",
    "spikes_array = np.vstack(([spike.timestamp for spike in spikes],[spike.id for spike in spikes])).T\n",
    "spikes_array[:,0] -= spikes_array[0,0]\n",
    "\n",
    "exc_spikes = spikes_array[spikes_array[:,1] < 256,:]\n",
    "inh_spikes = spikes_array[spikes_array[:,1] >= 256,:]\n",
    "e1 = exc_spikes[exc_spikes[:,1] <= neuron_ids_E1.size,:]\n",
    "e2 = exc_spikes[exc_spikes[:,1] > neuron_ids_E1.size,:]\n",
    "i1 = inh_spikes[inh_spikes[:,1]-256 <= neuron_ids_I1.size,:]\n",
    "i2 = inh_spikes[inh_spikes[:,1]-256 > neuron_ids_I1.size,:]\n",
    "\n",
    "neuron_indices = np.hstack((neuron_ids_E1,neuron_ids_E2,neuron_ids_I1+256,neuron_ids_I2+256))\n",
    "rates = np.array([np.count_nonzero(spikes_array[:,1] == neuron_index) for neuron_index in neuron_indices]) / (spikes_array[-1,0] - spikes_array[0,0]) * 1000000\n",
    "\n",
    "fig, axs = plt.subplots(1,2,figsize=(15,5))\n",
    "axs[0].plot(e1[:,0]/1000, e1[:,1], '|', label='E1')\n",
    "axs[0].plot(e2[:,0]/1000, e2[:,1], '|', label='E2')\n",
    "axs[0].plot(i1[:,0]/1000, -256+2*neuron_ids_I1.size+i1[:,1], '|', label='I1')\n",
    "axs[0].plot(i2[:,0]/1000, -256+2*neuron_ids_I1.size+i2[:,1], '|', label='I2')\n",
    "axs[0].legend()\n",
    "axs[1].plot(rates, np.arange(1,1+len(neuron_indices)), '.')\n",
    "axs[0].set_ylim([0,32])\n",
    "axs[1].set_ylim([0,32])\n",
    "plt.show()\n",
    "\n",
    "fig, ax = plt.subplots(1,1,figsize=(15,1))\n",
    "ax.plot(e1[:,0]/1000, np.ones_like(e1[:,0]), '|', label='E1')\n",
    "ax.plot(e2[:,0]/1000, 3*np.ones_like(e2[:,0]), '|', label='E2')\n",
    "ax.plot(i1[:,0]/1000, 2*np.ones_like(i1[:,0]), '|', label='I1')\n",
    "ax.plot(i2[:,0]/1000, 4*np.ones_like(i2[:,0]), '|', label='I2')\n",
    "plt.show()"
   ]
  }
 ],
 "metadata": {
  "kernelspec": {
   "display_name": "Python 3.8.5 64-bit",
   "name": "python385jvsc74a57bd031f2aee4e71d21fbe5cf8b01ff0e069b9275f58929596ceb00d14d90e3e16cd6"
  },
  "language_info": {
   "name": "python",
   "version": ""
  },
  "metadata": {
   "interpreter": {
    "hash": "31f2aee4e71d21fbe5cf8b01ff0e069b9275f58929596ceb00d14d90e3e16cd6"
   }
  },
  "orig_nbformat": 2
 },
 "nbformat": 4,
 "nbformat_minor": 2
}
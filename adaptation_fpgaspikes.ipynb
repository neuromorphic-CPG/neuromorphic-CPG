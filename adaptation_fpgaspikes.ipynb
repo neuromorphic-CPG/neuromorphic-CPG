{
 "cells": [
  {
   "cell_type": "code",
   "execution_count": null,
   "metadata": {},
   "outputs": [],
   "source": [
    "import matplotlib.pyplot as plt\n",
    "import numpy as np\n",
    "import parameters \n",
    "import device \n",
    "import network"
   ]
  },
  {
   "cell_type": "code",
   "execution_count": null,
   "metadata": {},
   "outputs": [],
   "source": [
    "# open DYNAP-SE1 board to get Dynapse1Model\n",
    "dynapse = device.DynapseDevice(sender_port=12321, receiver_port=12322)\n",
    "model = dynapse.model\n"
   ]
  },
  {
   "cell_type": "code",
   "execution_count": null,
   "metadata": {},
   "outputs": [],
   "source": [
    "chip = 0\n",
    "core = 0\n",
    "num_neurons = 2\n",
    "nids = np.arange(1,num_neurons+1)\n",
    "\n",
    "# init a network generator\n",
    "net = network.DynapseNetworkGenerator()\n",
    "\n",
    "# only use 1 spikegen No.15, [0,1024)\n",
    "spikegen_id = 5\n",
    "# 800 spikes in 1 second \n",
    "# duration of spikegen\n",
    "duration = 30\n",
    "rate = 1800\n",
    "# rates = np.repeat(rate, 8)\n",
    "spike_times = np.linspace(0, duration, rate)\n",
    "# spikegen id list corresponding to spike_times\n",
    "indices = [spikegen_id]*len(spike_times)\n",
    "\n",
    "# the chip where the post neurons are\n",
    "post_chip = 0\n",
    "target_chips = [post_chip]*len(indices)\n",
    "isi_base = 900\n",
    "repeat_mode=False\n",
    "\n",
    "# get spikegen \n",
    "spikegen = net.get_spikegen(chip, core, spikegen_id)\n",
    "fpga_gen = dynapse.get_fpga_spikegen(chip, core, spikegen_id, spike_times, repeat_mode)\n",
    "\n",
    "# get and monitor neurons \n",
    "neurons = net.get_neurons(chip, core, nids)\n",
    "dynapse.monitor_neuron_network(neurons)\n",
    "\n",
    "# add connections\n",
    "net.add_connections_one_to_all(spikegen, neurons, network.SYNAPSE_AMPA, 1)\n",
    "\n",
    "# apply monitor configuration\n",
    "model.apply_configuration(net.get_config())"
   ]
  },
  {
   "cell_type": "code",
   "execution_count": null,
   "metadata": {},
   "outputs": [],
   "source": [
    "# set params\n",
    "parameters.set_all_default_params(model)\n",
    "# parameters.set_param(model, parameters.GABA_B_WEIGHT, (4,255), chip, core)\n",
    "parameters.set_param(model, parameters.NEURON_DC_INPUT, (0,0), chip, core)\n",
    "parameters.set_param(model, parameters.ADAPTATION_GAIN, (7,80), chip, core)\n",
    "parameters.set_param(model, parameters.ADAPTATION_TIME_CONSTANT, (1,80), chip, core)\n",
    "parameters.set_param(model, parameters.ADAPTATION_WEIGHT, (7,80), chip, core)\n",
    "# parameters.set_param(model, parameters.ADAPTATION_CASCODE, (3,80), chip, core)\n",
    "parameters.set_param(model, parameters.AMPA_WEIGHT, (7,100), chip, core)\n",
    "# leakage of AMPA\n",
    "#  parameters.set_param(model, parameters.AMPA_TIME_CONSTANT, (2,80), chip, core)"
   ]
  },
  {
   "cell_type": "code",
   "execution_count": null,
   "metadata": {},
   "outputs": [],
   "source": [
    "# duration of simulation\n",
    "duration = 30\n",
    "# start monitor\n",
    "dynapse.start_graph()\n",
    "# start the stimulus\n",
    "fpga_gen.start()\n",
    "# run experiment\n",
    "dynapse.run_simulation(1)\n",
    "spikes = dynapse.run_simulation(duration)\n",
    "# stop the stimulus\n",
    "fpga_gen.stop()\n",ADAPTATION_CASCODE
    "# stop graph\n",
    "dynapse.stop_graph()\n",
    "\n"
   ]
  },
  {
   "cell_type": "code",
   "execution_count": null,
   "metadata": {},
   "outputs": [],
   "source": [
    "t0 = spikes[0].timestamp/1000000\n",
    "plt.figure(figsize=[15,8])\n",
    "plt.plot([spike.timestamp/1000000-t0 for spike in spikes], [spike.id for spike in spikes],'|')\n",
    "plt.xlabel('time (s)')\n",
    "plt.ylabel('neuron id')\n",
    "plt.xlim(0,3)\n",
    "plt.ylim(0,2)\n",
    "\n",
    "\n",
    "plt.show()"
   ]
  },
  {
   "cell_type": "code",
   "execution_count": null,
   "metadata": {},
   "outputs": [],
   "source": [
    "def spikes_of_neuron_id(neuron_id):\n",
    "    neuron_spike_times = []\n",
    "    for spike in spikes:\n",
    "        if neuron_id == spike.id: \n",
    "            neuron_spike_times.append(spike.timestamp)        \n",
    "    return neuron_spike_times\n",
    "\n",
    "all_neuron_ISI = []\n",
    "for neuron_id in nids:\n",
    "    spike_times = spikes_of_neuron_id(neuron_id)\n",
    "    neuron_ISI = np.diff(spike_times)/1000\n",
    "    all_neuron_ISI.append(neuron_ISI)\n",
    "\n",
    "\n",
    "plt.figure(figsize=[15,8])\n",
    "for i in range(num_neurons):\n",
    "    plt.plot(np.arange(len(all_neuron_ISI[i])), all_neuron_ISI[i], label = 'id %s' %i)\n",
    "plt.legend()\n",
    "plt.xlabel('Spike number')\n",
    "plt.ylabel('Inter spike interval (ms)')\n",
    "plt.show()\n",
    "\n",
    "\n",
    "\n"
   ]
  },
  {
   "cell_type": "code",
   "execution_count": null,
   "metadata": {},
   "outputs": [],
   "source": [
    "\n",
    "plt.figure(figsize=[15,8])\n",
    "plt.scatter(np.arange(len(all_neuron_ISI[1])), all_neuron_ISI[1], label = 'id %s' %i)\n",
    "plt.legend()\n",
    "plt.xlabel('Spike number')\n",
    "plt.ylabel('Inter spike interval (ms)')\n",
    "#plt.xlim([400,600])\n",
    "plt.show()"
   ]
  },
  {
   "cell_type": "code",
   "execution_count": null,
   "metadata": {},
   "outputs": [],
   "source": [
    "plt.figure(figsize=[15,8])\n",
    "plt.hist(all_neuron_ISI[1], bins=50)\n",
    "plt.ylabel('No of times')\n",
    "plt.xlabel('ISI value')\n",
    "plt.show()"
   ]
  },
  {
   "cell_type": "code",
   "execution_count": null,
   "metadata": {},
   "outputs": [],
   "source": [
    "plt.figure(figsize=[15,8])\n",
    "plt.hist(all_neuron_ISI[1], bins=20)\n",
    "plt.ylabel('No of times')\n",
    "plt.show()"
   ]
  },
  {
   "cell_type": "code",
   "execution_count": null,
   "metadata": {},
   "outputs": [],
   "source": []
  }
 ],
 "metadata": {
  "kernelspec": {
   "display_name": "Python 3",
   "language": "python",
   "name": "python3"
  },
  "language_info": {
   "name": "python",
   "version": ""
  },
  "orig_nbformat": 2
 },
 "nbformat": 4,
 "nbformat_minor": 2
}
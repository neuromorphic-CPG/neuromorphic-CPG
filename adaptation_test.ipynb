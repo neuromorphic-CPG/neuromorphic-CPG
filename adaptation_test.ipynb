{
 "cells": [
  {
   "cell_type": "code",
   "execution_count": 2,
   "metadata": {},
   "outputs": [
    {
     "output_type": "stream",
     "name": "stdout",
     "text": [
      "/home/asude/.local/lib/python3.8/site-packages/samna\n",
      "finished bindings\n"
     ]
    }
   ],
   "source": [
    "import matplotlib.pyplot as plt\n",
    "import numpy as np\n",
    "import parameters \n",
    "import device \n",
    "import network\n",
    "import numpy as np"
   ]
  },
  {
   "cell_type": "code",
   "execution_count": 3,
   "metadata": {},
   "outputs": [
    {
     "output_type": "stream",
     "name": "stdout",
     "text": [
      "ERROR: Address already in use, please re-run open_device()!\n",
      "[0]:  Bus 3 Device 28 Dynapse1DevKit serial_number 00000027\n",
      "[1]:  Bus 1 Device 39 Dynapse1DevKit serial_number 00000032\n",
      "[2]:  Bus 1 Device 44 Dynapse1DevKit serial_number 00000000\n",
      "[3]:  Bus 1 Device 43 Dynapse1DevKit serial_number 00000011\n",
      "[4]:  Bus 1 Device 46 Dynapse1DevKit serial_number 00000007\n",
      "[5]:  Bus 1 Device 45 Dynapse1DevKit serial_number 00000020\n",
      "Sender port: tcp://0.0.0.0:12321\n",
      "Receiver port: tcp://0.0.0.0:12322\n",
      "Opened device name: my_dynapse1\n",
      "SamnaNode ID: 1\n",
      "PythonNode ID: 2\n"
     ]
    }
   ],
   "source": [
    "# open DYNAP-SE1 board to get Dynapse1Model\n",
    "dynapse = device.DynapseDevice(sender_port=12321, receiver_port=12322)\n",
    "model = dynapse.model"
   ]
  },
  {
   "cell_type": "code",
   "execution_count": null,
   "metadata": {},
   "outputs": [],
   "source": [
    "neuron_ids = np.arange(1,2)\n",
    "# duration = 1\n",
    "# rate = 100 \n",
    "# spike_times = np.linspace(0, duration, rate)\n",
    "# spike_times = np.hstack((spike_times, 0*spike_times))\n",
    "fpga_spikegen = dynapse.get_fpga_spikegen_rate(0, 0, 3, 100, 1)\n",
    "\n",
    "# init a network generator\n",
    "net = network.DynapseNetworkGenerator()\n",
    "spikegens = net.get_spikegens(0, 0, 3)\n",
    "neurons = net.get_neurons(0, 0, neuron_ids)\n",
    "\n",
    "net.add_connections_one_to_one(spikegens, neurons, network.SYNAPSE_AMPA)\n",
    "\n",
    "dynapse.monitor_neuron_network(neurons)\n",
    "model.apply_configuration(net.get_config())"
   ]
  },
  {
   "cell_type": "code",
   "execution_count": null,
   "metadata": {},
   "outputs": [],
   "source": [
    "# # set params\n",
    "# parameters.set_all_default_params(model)\n",
    "# parameters.set_param(model, parameters.NEURON_DC_INPUT, (0,0), 0, 0)\n",
    "# parameters.set_param(model, parameters.AMPA_WEIGHT, (7, 30), 0, 0)\n",
    "# parameters.set_param(model, parameters.ADAPTATION_TIME_CONSTANT, (3,80), 0, 0)\n",
    "# parameters.set_param(model, parameters.ADAPTATION_CASCODE, (5,100), 0, 0)\n",
    "# parameters.set_param(model, parameters.ADAPTATION_WEIGHT, (6,100), 0, 0)\n",
    "# parameters.set_param(model, parameters.ADAPTATION_GAIN, (4,125), 0, 0)\n",
    "\n",
    "# # set params\n",
    "parameters.set_all_default_params(model)\n",
    "parameters.set_param(model, parameters.NEURON_DC_INPUT, (0,0), 0, 0)\n",
    "parameters.set_param(model, parameters.AMPA_WEIGHT, (7, 30), 0, 0)\n",
    "# parameters.set_param(model, parameters.AMPA_TIME_CONSTANT)\n",
    "# parameters.set_param(model, parameters.ADAPTATION_TIME_CONSTANT, (0,0), 0, 0)\n",
    "# parameters.set_param(model, parameters.ADAPTATION_CASCODE, (0,0), 0, 0)\n",
    "# parameters.set_param(model, parameters.ADAPTATION_WEIGHT, (0,0), 0, 0)\n",
    "# parameters.set_param(model, parameters.ADAPTATION_GAIN, (0,0), 0, 0)\n",
    "\n",
    "\n",
    "parameters.set_param(model, parameters.ADAPTATION_CASCODE, (5,150), 0, 0)\n",
    "parameters.set_param(model, parameters.ADAPTATION_WEIGHT, (6,130), 0, 0)\n",
    "\n",
    "parameters.set_param(model, parameters.ADAPTATION_TIME_CONSTANT, (3,100), 0, 0)\n",
    "parameters.set_param(model, parameters.ADAPTATION_GAIN, (4,125), 0, 0)\n",
    "\n",
    "\n",
    "dynapse.start_graph()\n",
    "dynapse.run_simulation(0.1) # bug with clearing the buffer at the moment - need to run the simulation for a little \n",
    "spikes = []\n",
    "rates = []\n",
    "for i in range (4):\n",
    "\tfpga_spikegen.start()\n",
    "\tthese_spikes = dynapse.run_simulation(1)\n",
    "\tspikes_array = np.vstack(([spike.timestamp for spike in these_spikes],[spike.id for spike in these_spikes])).T\n",
    "\trates = np.hstack((rates, 1e6/np.diff(spikes_array[:,0])))\n",
    "\tspikes += these_spikes\n",
    "\tfpga_spikegen.stop()\n",
    "\tthese_spikes = dynapse.run_simulation(4)\n",
    "\tspikes_array = np.vstack(([spike.timestamp for spike in these_spikes],[spike.id for spike in these_spikes])).T\n",
    "\trates = np.hstack((rates, 1e6/np.diff(spikes_array[:,0])))\n",
    "\tspikes += these_spikes\n",
    "dynapse.stop_graph()\n",
    "\n",
    "spikes_array = np.vstack(([spike.timestamp for spike in spikes],[spike.id for spike in spikes])).T\n",
    "spikes_array[:,0] -= spikes_array[0,0]\n",
    "\n",
    "# fig, axs = plt.subplots(1,2,figsize=(15,5), sharey=True)\n",
    "# axs[0].plot(spikes_array[:,0]/1000, spikes_array[:,1], '|')\n",
    "# axs[1].plot(rates, neuron_ids, '.')\n",
    "# for i in range(len(vary)):\t\n",
    "# \th_pos = (i*1 + 1)*1000\n",
    "# \taxs[0].axvline(h_pos, neuron_ids[0]-1, neuron_ids[-1]+1, color = 'r', ls = ':')\n",
    "# #axs[0].set_xlim([0, 1000])\n",
    "# axs[0].set_xlim([8000, 10000])\n",
    "# axs[1].set_ylim([neuron_ids[0]-1,neuron_ids[-1]+1])\n",
    "# axs[0].set_ylabel('neuron ID')\n",
    "# axs[1].set_xlabel('frequency')\n",
    "# plt.show()\n",
    "fig, axs = plt.subplots(1,2,figsize=(25,10))\n",
    "axs[0].plot(spikes_array[:,0]/1000, spikes_array[:,1], '|')\n",
    "axs[1].plot(rates)\n",
    "axs[0].set_ylabel('Neuron ID')\n",
    "axs[1].set_ylabel('frequency')\n",
    "plt.show()"
   ]
  },
  {
   "cell_type": "code",
   "execution_count": null,
   "metadata": {},
   "outputs": [],
   "source": [
    "fig, axs = plt.subplots(1,2,figsize=(25,10))\n",
    "axs[0].plot(spikes_array[:,0]/1000, spikes_array[:,1], '|')\n",
    "axs[1].plot(rates, '.')\n",
    "axs[0].set_ylabel('Neuron ID')\n",
    "axs[1].set_ylabel('frequency')\n",
    "plt.show()"
   ]
  },
  {
   "cell_type": "code",
   "execution_count": null,
   "metadata": {},
   "outputs": [],
   "source": [
    "fig, axs = plt.subplots(1,2,figsize=(25,10))\n",
    "axs[0].plot(spikes_array[:,0]/1000, spikes_array[:,1], '|')\n",
    "axs[1].plot(rates)\n",
    "axs[0].set_xlim([0,1000])\n",
    "axs[0].set_ylabel('Neuron ID')\n",
    "axs[1].set_ylabel('frequency')\n",
    "plt.show()"
   ]
  },
  {
   "cell_type": "code",
   "execution_count": null,
   "metadata": {},
   "outputs": [],
   "source": [
    "fig, axs = plt.subplots(1,2,figsize=(15,5))\n",
    "axs[0].plot(spikes_array[:,0]/1000, spikes_array[:,1], '|')\n",
    "axs[1].plot(1e6/np.diff(spikes_array[:,0]),'.')\n",
    "axs[0].set_ylabel('Neuron ID')\n",
    "axs[1].set_ylabel('frequency')\n",
    "plt.show()"
   ]
  },
  {
   "cell_type": "code",
   "execution_count": null,
   "metadata": {},
   "outputs": [],
   "source": [
    "fig, axs = plt.subplots(1,2,figsize=(15,5))\n",
    "axs[0].plot(spikes_array[:,0]/1000, spikes_array[:,1], '|')\n",
    "axs[1].plot(np.diff(spikes_array[:,0]/1000))\n",
    "axs[0].set_ylabel('neuron ID')\n",
    "axs[1].set_xlabel('frequency')\n",
    "plt.show()"
   ]
  },
  {
   "cell_type": "code",
   "execution_count": null,
   "metadata": {},
   "outputs": [],
   "source": [
    "fig, axs = plt.subplots(1,2,figsize=(15,5), sharey=True)\n",
    "axs[0].plot(spikes_array[:,0]/1000, spikes_array[:,1], '|')\n",
    "axs[1].plot(rates, neuron_ids, '.')\n",
    "for i in range(len(vary)):\t\n",
    "\th_pos = (i*1 + 1)*1000\n",
    "\taxs[0].axvline(h_pos, neuron_ids[0]-1, neuron_ids[-1]+1, color = 'r', ls = ':')\n",
    "axs[0].set_xlim([8000, 10000])\n",
    "axs[1].set_ylim([neuron_ids[0]-1,neuron_ids[-1]+1])\n",
    "axs[0].set_ylabel('neuron ID')\n",
    "axs[1].set_xlabel('frequency')\n",
    "plt.show()"
   ]
  },
  {
   "cell_type": "code",
   "execution_count": null,
   "metadata": {},
   "outputs": [],
   "source": [
    "fig, axs = plt.subplots(1,2,figsize=(20,5), sharey=True)\n",
    "axs[0].plot(spikes_array[:,0]/1000, spikes_array[:,1], '|')\n",
    "axs[1].plot(rates, neuron_ids, '.')\n",
    "for i in range(len(vary)):\t\n",
    "\th_pos = (i*0.5 + 0.5)*1000\n",
    "\taxs[0].axvline(h_pos, neuron_ids[0]-1, neuron_ids[-1]+1, color = 'r', ls = ':')\n",
    "axs[1].set_ylim([neuron_ids[0]-1,neuron_ids[-1]+1])\n",
    "axs[0].set_ylabel('neuron ID')\n",
    "axs[1].set_xlabel('frequency')\n",
    "plt.show()"
   ]
  },
  {
   "cell_type": "code",
   "execution_count": null,
   "metadata": {},
   "outputs": [],
   "source": [
    "# Lower tau spikes more slowly, more adaptation = frequency of the spiking decreases more. "
   ]
  }
 ],
 "metadata": {
  "kernelspec": {
   "display_name": "Python 3",
   "language": "python",
   "name": "python3"
  },
  "language_info": {
   "codemirror_mode": {
    "name": "ipython",
    "version": 3
   },
   "file_extension": ".py",
   "mimetype": "text/x-python",
   "name": "python",
   "nbconvert_exporter": "python",
   "pygments_lexer": "ipython3",
   "version": "3.8.5"
  },
  "orig_nbformat": 2
 },
 "nbformat": 4,
 "nbformat_minor": 2
}
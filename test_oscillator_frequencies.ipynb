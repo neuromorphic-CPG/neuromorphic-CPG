{
 "cells": [
  {
   "cell_type": "code",
   "execution_count": 1,
   "metadata": {},
   "outputs": [
    {
     "name": "stdout",
     "output_type": "stream",
     "text": [
      "/home/ddallo/.local/lib/python3.8/site-packages/samna\n",
      "finished bindings\n"
     ]
    }
   ],
   "source": [
    "import matplotlib.pyplot as plt\n",
    "import numpy as np\n",
    "import parameters \n",
    "import device \n",
    "import network\n",
    "import plotting\n",
    "import numpy as np\n",
    "import tqdm\n",
    "\n",
    "import oscillator\n",
    "import oscillator_analysis"
   ]
  },
  {
   "cell_type": "code",
   "execution_count": 2,
   "metadata": {},
   "outputs": [
    {
     "name": "stdout",
     "output_type": "stream",
     "text": [
      "[0]:  Bus 3 Device 53 Dynapse1DevKit serial_number 00000027\n",
      "[1]:  Bus 1 Device 24 Dynapse1DevKit serial_number 00000032\n",
      "[2]:  Bus 1 Device 27 Dynapse1DevKit serial_number 00000007\n",
      "[3]:  Bus 1 Device 31 Dynapse1DevKit serial_number 00000020\n",
      "[4]:  Bus 1 Device 25 Dynapse1DevKit serial_number 00000033\n",
      "Sender port: tcp://0.0.0.0:12328\n",
      "Receiver port: tcp://0.0.0.0:12329\n",
      "Opened device name: my_dynapse1\n",
      "SamnaNode ID: 1\n",
      "PythonNode ID: 2\n"
     ]
    }
   ],
   "source": [
    "dynapse = device.DynapseDevice(sender_port=12328, receiver_port=12329)\n",
    "model = dynapse.model"
   ]
  },
  {
   "cell_type": "code",
   "execution_count": 9,
   "metadata": {},
   "outputs": [
    {
     "name": "stderr",
     "output_type": "stream",
     "text": [
      "  0%|          | 0/100 [00:00<?, ?it/s]"
     ]
    },
    {
     "name": "stdout",
     "output_type": "stream",
     "text": [
      "Checking if the given network is valid to be deployed on DYNAP-SE1 chips...\n",
      "Validation complete: the network is good to go!\n",
      "Converted the validated network to a Dynapse1 configuration!\n"
     ]
    },
    {
     "name": "stderr",
     "output_type": "stream",
     "text": [
      "  1%|          | 1/100 [00:05<09:31,  5.77s/it]"
     ]
    },
    {
     "name": "stdout",
     "output_type": "stream",
     "text": [
      "f = 4.919786 Hz\n",
      "Checking if the given network is valid to be deployed on DYNAP-SE1 chips...\n",
      "Validation complete: the network is good to go!\n",
      "Converted the validated network to a Dynapse1 configuration!\n"
     ]
    },
    {
     "name": "stderr",
     "output_type": "stream",
     "text": [
      "  2%|▏         | 2/100 [00:11<09:26,  5.78s/it]"
     ]
    },
    {
     "name": "stdout",
     "output_type": "stream",
     "text": [
      "f = 5.141388 Hz\n",
      "Checking if the given network is valid to be deployed on DYNAP-SE1 chips...\n",
      "Validation complete: the network is good to go!\n",
      "Converted the validated network to a Dynapse1 configuration!\n"
     ]
    },
    {
     "name": "stderr",
     "output_type": "stream",
     "text": [
      "  3%|▎         | 3/100 [00:17<09:20,  5.78s/it]"
     ]
    },
    {
     "name": "stdout",
     "output_type": "stream",
     "text": [
      "f = 5.070244 Hz\n",
      "Checking if the given network is valid to be deployed on DYNAP-SE1 chips...\n",
      "Validation complete: the network is good to go!\n",
      "Converted the validated network to a Dynapse1 configuration!\n"
     ]
    },
    {
     "name": "stderr",
     "output_type": "stream",
     "text": [
      "  4%|▍         | 4/100 [00:23<09:15,  5.79s/it]"
     ]
    },
    {
     "name": "stdout",
     "output_type": "stream",
     "text": [
      "f = 5.035669 Hz\n",
      "Checking if the given network is valid to be deployed on DYNAP-SE1 chips...\n",
      "Validation complete: the network is good to go!\n",
      "Converted the validated network to a Dynapse1 configuration!\n"
     ]
    },
    {
     "name": "stderr",
     "output_type": "stream",
     "text": [
      "  5%|▌         | 5/100 [00:28<09:09,  5.79s/it]"
     ]
    },
    {
     "name": "stdout",
     "output_type": "stream",
     "text": [
      "f = 4.892218 Hz\n",
      "Checking if the given network is valid to be deployed on DYNAP-SE1 chips...\n",
      "Validation complete: the network is good to go!\n",
      "Converted the validated network to a Dynapse1 configuration!\n"
     ]
    },
    {
     "name": "stderr",
     "output_type": "stream",
     "text": [
      "  6%|▌         | 6/100 [00:34<09:04,  5.79s/it]"
     ]
    },
    {
     "name": "stdout",
     "output_type": "stream",
     "text": [
      "f = 5.281783 Hz\n",
      "Checking if the given network is valid to be deployed on DYNAP-SE1 chips...\n",
      "Validation complete: the network is good to go!\n",
      "Converted the validated network to a Dynapse1 configuration!\n"
     ]
    },
    {
     "name": "stderr",
     "output_type": "stream",
     "text": [
      "  7%|▋         | 7/100 [00:40<08:58,  5.79s/it]"
     ]
    },
    {
     "name": "stdout",
     "output_type": "stream",
     "text": [
      "f = 5.365526 Hz\n",
      "Checking if the given network is valid to be deployed on DYNAP-SE1 chips...\n",
      "Validation complete: the network is good to go!\n",
      "Converted the validated network to a Dynapse1 configuration!\n"
     ]
    },
    {
     "name": "stderr",
     "output_type": "stream",
     "text": [
      "  8%|▊         | 8/100 [00:46<08:51,  5.78s/it]"
     ]
    },
    {
     "name": "stdout",
     "output_type": "stream",
     "text": [
      "f = 4.986754 Hz\n",
      "Checking if the given network is valid to be deployed on DYNAP-SE1 chips...\n",
      "Validation complete: the network is good to go!\n",
      "Converted the validated network to a Dynapse1 configuration!\n"
     ]
    },
    {
     "name": "stderr",
     "output_type": "stream",
     "text": [
      "  9%|▉         | 9/100 [00:52<08:46,  5.78s/it]"
     ]
    },
    {
     "name": "stdout",
     "output_type": "stream",
     "text": [
      "f = 4.920575 Hz\n",
      "Checking if the given network is valid to be deployed on DYNAP-SE1 chips...\n",
      "Validation complete: the network is good to go!\n",
      "Converted the validated network to a Dynapse1 configuration!\n"
     ]
    },
    {
     "name": "stderr",
     "output_type": "stream",
     "text": [
      " 10%|█         | 10/100 [00:57<08:41,  5.79s/it]"
     ]
    },
    {
     "name": "stdout",
     "output_type": "stream",
     "text": [
      "f = 5.028021 Hz\n",
      "Checking if the given network is valid to be deployed on DYNAP-SE1 chips...\n",
      "Validation complete: the network is good to go!\n",
      "Converted the validated network to a Dynapse1 configuration!\n"
     ]
    },
    {
     "name": "stderr",
     "output_type": "stream",
     "text": [
      " 11%|█         | 11/100 [01:03<08:35,  5.79s/it]"
     ]
    },
    {
     "name": "stdout",
     "output_type": "stream",
     "text": [
      "f = 5.230126 Hz\n",
      "Checking if the given network is valid to be deployed on DYNAP-SE1 chips...\n",
      "Validation complete: the network is good to go!\n",
      "Converted the validated network to a Dynapse1 configuration!\n"
     ]
    },
    {
     "name": "stderr",
     "output_type": "stream",
     "text": [
      " 12%|█▏        | 12/100 [01:09<08:29,  5.79s/it]"
     ]
    },
    {
     "name": "stdout",
     "output_type": "stream",
     "text": [
      "f = 4.981062 Hz\n",
      "Checking if the given network is valid to be deployed on DYNAP-SE1 chips...\n",
      "Validation complete: the network is good to go!\n",
      "Converted the validated network to a Dynapse1 configuration!\n"
     ]
    },
    {
     "name": "stderr",
     "output_type": "stream",
     "text": [
      " 13%|█▎        | 13/100 [01:15<08:23,  5.79s/it]"
     ]
    },
    {
     "name": "stdout",
     "output_type": "stream",
     "text": [
      "f = 5.054494 Hz\n",
      "Checking if the given network is valid to be deployed on DYNAP-SE1 chips...\n",
      "Validation complete: the network is good to go!\n",
      "Converted the validated network to a Dynapse1 configuration!\n"
     ]
    },
    {
     "name": "stderr",
     "output_type": "stream",
     "text": [
      " 14%|█▍        | 14/100 [01:21<08:18,  5.79s/it]"
     ]
    },
    {
     "name": "stdout",
     "output_type": "stream",
     "text": [
      "f = 5.022497 Hz\n",
      "Checking if the given network is valid to be deployed on DYNAP-SE1 chips...\n",
      "Validation complete: the network is good to go!\n",
      "Converted the validated network to a Dynapse1 configuration!\n"
     ]
    },
    {
     "name": "stderr",
     "output_type": "stream",
     "text": [
      " 15%|█▌        | 15/100 [01:26<08:12,  5.79s/it]"
     ]
    },
    {
     "name": "stdout",
     "output_type": "stream",
     "text": [
      "f = 4.971002 Hz\n",
      "Checking if the given network is valid to be deployed on DYNAP-SE1 chips...\n",
      "Validation complete: the network is good to go!\n",
      "Converted the validated network to a Dynapse1 configuration!\n"
     ]
    },
    {
     "name": "stderr",
     "output_type": "stream",
     "text": [
      " 16%|█▌        | 16/100 [01:32<08:08,  5.82s/it]"
     ]
    },
    {
     "name": "stdout",
     "output_type": "stream",
     "text": [
      "f = 5.946583 Hz\n",
      "Checking if the given network is valid to be deployed on DYNAP-SE1 chips...\n",
      "Validation complete: the network is good to go!\n",
      "Converted the validated network to a Dynapse1 configuration!\n"
     ]
    },
    {
     "name": "stderr",
     "output_type": "stream",
     "text": [
      " 17%|█▋        | 17/100 [01:38<08:02,  5.81s/it]"
     ]
    },
    {
     "name": "stdout",
     "output_type": "stream",
     "text": [
      "f = 4.601731 Hz\n",
      "Checking if the given network is valid to be deployed on DYNAP-SE1 chips...\n",
      "Validation complete: the network is good to go!\n",
      "Converted the validated network to a Dynapse1 configuration!\n"
     ]
    },
    {
     "name": "stderr",
     "output_type": "stream",
     "text": [
      " 18%|█▊        | 18/100 [01:44<07:55,  5.80s/it]"
     ]
    },
    {
     "name": "stdout",
     "output_type": "stream",
     "text": [
      "f = 4.975932 Hz\n",
      "Checking if the given network is valid to be deployed on DYNAP-SE1 chips...\n",
      "Validation complete: the network is good to go!\n",
      "Converted the validated network to a Dynapse1 configuration!\n"
     ]
    },
    {
     "name": "stderr",
     "output_type": "stream",
     "text": [
      " 19%|█▉        | 19/100 [01:50<07:49,  5.79s/it]"
     ]
    },
    {
     "name": "stdout",
     "output_type": "stream",
     "text": [
      "f = 4.871849 Hz\n",
      "Checking if the given network is valid to be deployed on DYNAP-SE1 chips...\n",
      "Validation complete: the network is good to go!\n",
      "Converted the validated network to a Dynapse1 configuration!\n"
     ]
    },
    {
     "name": "stderr",
     "output_type": "stream",
     "text": [
      " 20%|██        | 20/100 [01:55<07:43,  5.79s/it]"
     ]
    },
    {
     "name": "stdout",
     "output_type": "stream",
     "text": [
      "f = 4.754701 Hz\n",
      "Checking if the given network is valid to be deployed on DYNAP-SE1 chips...\n",
      "Validation complete: the network is good to go!\n",
      "Converted the validated network to a Dynapse1 configuration!\n"
     ]
    },
    {
     "name": "stderr",
     "output_type": "stream",
     "text": [
      " 21%|██        | 21/100 [02:01<07:38,  5.80s/it]"
     ]
    },
    {
     "name": "stdout",
     "output_type": "stream",
     "text": [
      "f = 4.852833 Hz\n",
      "Checking if the given network is valid to be deployed on DYNAP-SE1 chips...\n",
      "Validation complete: the network is good to go!\n",
      "Converted the validated network to a Dynapse1 configuration!\n"
     ]
    },
    {
     "name": "stderr",
     "output_type": "stream",
     "text": [
      " 22%|██▏       | 22/100 [02:07<07:31,  5.79s/it]"
     ]
    },
    {
     "name": "stdout",
     "output_type": "stream",
     "text": [
      "f = 5.202102 Hz\n",
      "Checking if the given network is valid to be deployed on DYNAP-SE1 chips...\n",
      "Validation complete: the network is good to go!\n",
      "Converted the validated network to a Dynapse1 configuration!\n"
     ]
    },
    {
     "name": "stderr",
     "output_type": "stream",
     "text": [
      " 23%|██▎       | 23/100 [02:13<07:26,  5.79s/it]"
     ]
    },
    {
     "name": "stdout",
     "output_type": "stream",
     "text": [
      "f = 4.808949 Hz\n",
      "Checking if the given network is valid to be deployed on DYNAP-SE1 chips...\n",
      "Validation complete: the network is good to go!\n",
      "Converted the validated network to a Dynapse1 configuration!\n"
     ]
    },
    {
     "name": "stderr",
     "output_type": "stream",
     "text": [
      " 24%|██▍       | 24/100 [02:19<07:20,  5.80s/it]"
     ]
    },
    {
     "name": "stdout",
     "output_type": "stream",
     "text": [
      "f = 4.594341 Hz\n",
      "Checking if the given network is valid to be deployed on DYNAP-SE1 chips...\n",
      "Validation complete: the network is good to go!\n",
      "Converted the validated network to a Dynapse1 configuration!\n"
     ]
    },
    {
     "name": "stderr",
     "output_type": "stream",
     "text": [
      " 25%|██▌       | 25/100 [02:24<07:14,  5.79s/it]"
     ]
    },
    {
     "name": "stdout",
     "output_type": "stream",
     "text": [
      "f = 4.728132 Hz\n",
      "Checking if the given network is valid to be deployed on DYNAP-SE1 chips...\n",
      "Validation complete: the network is good to go!\n",
      "Converted the validated network to a Dynapse1 configuration!\n"
     ]
    },
    {
     "name": "stderr",
     "output_type": "stream",
     "text": [
      " 26%|██▌       | 26/100 [02:30<07:09,  5.80s/it]"
     ]
    },
    {
     "name": "stdout",
     "output_type": "stream",
     "text": [
      "f = 4.849507 Hz\n",
      "Checking if the given network is valid to be deployed on DYNAP-SE1 chips...\n",
      "Validation complete: the network is good to go!\n",
      "Converted the validated network to a Dynapse1 configuration!\n"
     ]
    },
    {
     "name": "stderr",
     "output_type": "stream",
     "text": [
      " 27%|██▋       | 27/100 [02:36<07:03,  5.80s/it]"
     ]
    },
    {
     "name": "stdout",
     "output_type": "stream",
     "text": [
      "f = 5.100685 Hz\n",
      "Checking if the given network is valid to be deployed on DYNAP-SE1 chips...\n",
      "Validation complete: the network is good to go!\n",
      "Converted the validated network to a Dynapse1 configuration!\n"
     ]
    },
    {
     "name": "stderr",
     "output_type": "stream",
     "text": [
      " 28%|██▊       | 28/100 [02:42<06:57,  5.79s/it]"
     ]
    },
    {
     "name": "stdout",
     "output_type": "stream",
     "text": [
      "f = 4.953049 Hz\n",
      "Checking if the given network is valid to be deployed on DYNAP-SE1 chips...\n",
      "Validation complete: the network is good to go!\n",
      "Converted the validated network to a Dynapse1 configuration!\n"
     ]
    },
    {
     "name": "stderr",
     "output_type": "stream",
     "text": [
      " 29%|██▉       | 29/100 [02:47<06:51,  5.79s/it]"
     ]
    },
    {
     "name": "stdout",
     "output_type": "stream",
     "text": [
      "f = 4.843380 Hz\n",
      "Checking if the given network is valid to be deployed on DYNAP-SE1 chips...\n",
      "Validation complete: the network is good to go!\n",
      "Converted the validated network to a Dynapse1 configuration!\n"
     ]
    },
    {
     "name": "stderr",
     "output_type": "stream",
     "text": [
      " 30%|███       | 30/100 [02:53<06:45,  5.79s/it]"
     ]
    },
    {
     "name": "stdout",
     "output_type": "stream",
     "text": [
      "f = 4.827622 Hz\n",
      "Checking if the given network is valid to be deployed on DYNAP-SE1 chips...\n",
      "Validation complete: the network is good to go!\n",
      "Converted the validated network to a Dynapse1 configuration!\n"
     ]
    },
    {
     "name": "stderr",
     "output_type": "stream",
     "text": [
      " 31%|███       | 31/100 [02:59<06:39,  5.79s/it]"
     ]
    },
    {
     "name": "stdout",
     "output_type": "stream",
     "text": [
      "f = 5.191299 Hz\n",
      "Checking if the given network is valid to be deployed on DYNAP-SE1 chips...\n",
      "Validation complete: the network is good to go!\n",
      "Converted the validated network to a Dynapse1 configuration!\n"
     ]
    },
    {
     "name": "stderr",
     "output_type": "stream",
     "text": [
      " 32%|███▏      | 32/100 [03:05<06:33,  5.79s/it]"
     ]
    },
    {
     "name": "stdout",
     "output_type": "stream",
     "text": [
      "f = 5.697104 Hz\n",
      "Checking if the given network is valid to be deployed on DYNAP-SE1 chips...\n",
      "Validation complete: the network is good to go!\n",
      "Converted the validated network to a Dynapse1 configuration!\n"
     ]
    },
    {
     "name": "stderr",
     "output_type": "stream",
     "text": [
      " 33%|███▎      | 33/100 [03:11<06:28,  5.79s/it]"
     ]
    },
    {
     "name": "stdout",
     "output_type": "stream",
     "text": [
      "f = 5.062757 Hz\n",
      "Checking if the given network is valid to be deployed on DYNAP-SE1 chips...\n",
      "Validation complete: the network is good to go!\n",
      "Converted the validated network to a Dynapse1 configuration!\n"
     ]
    },
    {
     "name": "stderr",
     "output_type": "stream",
     "text": [
      " 34%|███▍      | 34/100 [03:16<06:22,  5.80s/it]"
     ]
    },
    {
     "name": "stdout",
     "output_type": "stream",
     "text": [
      "f = 5.452448 Hz\n",
      "Checking if the given network is valid to be deployed on DYNAP-SE1 chips...\n",
      "Validation complete: the network is good to go!\n",
      "Converted the validated network to a Dynapse1 configuration!\n"
     ]
    },
    {
     "name": "stderr",
     "output_type": "stream",
     "text": [
      " 35%|███▌      | 35/100 [03:22<06:16,  5.80s/it]"
     ]
    },
    {
     "name": "stdout",
     "output_type": "stream",
     "text": [
      "f = 5.000000 Hz\n",
      "Checking if the given network is valid to be deployed on DYNAP-SE1 chips...\n",
      "Validation complete: the network is good to go!\n",
      "Converted the validated network to a Dynapse1 configuration!\n"
     ]
    },
    {
     "name": "stderr",
     "output_type": "stream",
     "text": [
      " 36%|███▌      | 36/100 [03:28<06:10,  5.79s/it]"
     ]
    },
    {
     "name": "stdout",
     "output_type": "stream",
     "text": [
      "f = 4.653986 Hz\n",
      "Checking if the given network is valid to be deployed on DYNAP-SE1 chips...\n",
      "Validation complete: the network is good to go!\n",
      "Converted the validated network to a Dynapse1 configuration!\n"
     ]
    },
    {
     "name": "stderr",
     "output_type": "stream",
     "text": [
      " 37%|███▋      | 37/100 [03:34<06:05,  5.80s/it]"
     ]
    },
    {
     "name": "stdout",
     "output_type": "stream",
     "text": [
      "f = 4.679109 Hz\n",
      "Checking if the given network is valid to be deployed on DYNAP-SE1 chips...\n",
      "Validation complete: the network is good to go!\n",
      "Converted the validated network to a Dynapse1 configuration!\n"
     ]
    },
    {
     "name": "stderr",
     "output_type": "stream",
     "text": [
      " 38%|███▊      | 38/100 [03:40<05:59,  5.80s/it]"
     ]
    },
    {
     "name": "stdout",
     "output_type": "stream",
     "text": [
      "f = 4.962511 Hz\n",
      "Checking if the given network is valid to be deployed on DYNAP-SE1 chips...\n",
      "Validation complete: the network is good to go!\n",
      "Converted the validated network to a Dynapse1 configuration!\n"
     ]
    },
    {
     "name": "stderr",
     "output_type": "stream",
     "text": [
      " 39%|███▉      | 39/100 [03:45<05:53,  5.79s/it]"
     ]
    },
    {
     "name": "stdout",
     "output_type": "stream",
     "text": [
      "f = 4.871591 Hz\n",
      "Checking if the given network is valid to be deployed on DYNAP-SE1 chips...\n",
      "Validation complete: the network is good to go!\n",
      "Converted the validated network to a Dynapse1 configuration!\n"
     ]
    },
    {
     "name": "stderr",
     "output_type": "stream",
     "text": [
      " 40%|████      | 40/100 [03:51<05:48,  5.80s/it]"
     ]
    },
    {
     "name": "stdout",
     "output_type": "stream",
     "text": [
      "f = 4.717993 Hz\n",
      "Checking if the given network is valid to be deployed on DYNAP-SE1 chips...\n",
      "Validation complete: the network is good to go!\n",
      "Converted the validated network to a Dynapse1 configuration!\n"
     ]
    },
    {
     "name": "stderr",
     "output_type": "stream",
     "text": [
      " 41%|████      | 41/100 [03:57<05:42,  5.80s/it]"
     ]
    },
    {
     "name": "stdout",
     "output_type": "stream",
     "text": [
      "f = 5.613597 Hz\n",
      "Checking if the given network is valid to be deployed on DYNAP-SE1 chips...\n",
      "Validation complete: the network is good to go!\n",
      "Converted the validated network to a Dynapse1 configuration!\n"
     ]
    },
    {
     "name": "stderr",
     "output_type": "stream",
     "text": [
      " 42%|████▏     | 42/100 [04:03<05:36,  5.80s/it]"
     ]
    },
    {
     "name": "stdout",
     "output_type": "stream",
     "text": [
      "f = 5.085015 Hz\n",
      "Checking if the given network is valid to be deployed on DYNAP-SE1 chips...\n",
      "Validation complete: the network is good to go!\n",
      "Converted the validated network to a Dynapse1 configuration!\n"
     ]
    },
    {
     "name": "stderr",
     "output_type": "stream",
     "text": [
      " 43%|████▎     | 43/100 [04:09<05:30,  5.80s/it]"
     ]
    },
    {
     "name": "stdout",
     "output_type": "stream",
     "text": [
      "f = 5.156766 Hz\n",
      "Checking if the given network is valid to be deployed on DYNAP-SE1 chips...\n",
      "Validation complete: the network is good to go!\n",
      "Converted the validated network to a Dynapse1 configuration!\n"
     ]
    },
    {
     "name": "stderr",
     "output_type": "stream",
     "text": [
      " 44%|████▍     | 44/100 [04:14<05:24,  5.80s/it]"
     ]
    },
    {
     "name": "stdout",
     "output_type": "stream",
     "text": [
      "f = 5.155968 Hz\n",
      "Checking if the given network is valid to be deployed on DYNAP-SE1 chips...\n",
      "Validation complete: the network is good to go!\n",
      "Converted the validated network to a Dynapse1 configuration!\n"
     ]
    },
    {
     "name": "stderr",
     "output_type": "stream",
     "text": [
      " 45%|████▌     | 45/100 [04:20<05:19,  5.80s/it]"
     ]
    },
    {
     "name": "stdout",
     "output_type": "stream",
     "text": [
      "f = 4.824078 Hz\n",
      "Checking if the given network is valid to be deployed on DYNAP-SE1 chips...\n",
      "Validation complete: the network is good to go!\n",
      "Converted the validated network to a Dynapse1 configuration!\n"
     ]
    },
    {
     "name": "stderr",
     "output_type": "stream",
     "text": [
      " 46%|████▌     | 46/100 [04:26<05:13,  5.80s/it]"
     ]
    },
    {
     "name": "stdout",
     "output_type": "stream",
     "text": [
      "f = 5.021708 Hz\n",
      "Checking if the given network is valid to be deployed on DYNAP-SE1 chips...\n",
      "Validation complete: the network is good to go!\n",
      "Converted the validated network to a Dynapse1 configuration!\n"
     ]
    },
    {
     "name": "stderr",
     "output_type": "stream",
     "text": [
      " 47%|████▋     | 47/100 [04:32<05:07,  5.79s/it]"
     ]
    },
    {
     "name": "stdout",
     "output_type": "stream",
     "text": [
      "f = 5.280946 Hz\n",
      "Checking if the given network is valid to be deployed on DYNAP-SE1 chips...\n",
      "Validation complete: the network is good to go!\n",
      "Converted the validated network to a Dynapse1 configuration!\n"
     ]
    },
    {
     "name": "stderr",
     "output_type": "stream",
     "text": [
      " 48%|████▊     | 48/100 [04:38<05:01,  5.80s/it]"
     ]
    },
    {
     "name": "stdout",
     "output_type": "stream",
     "text": [
      "f = 5.396150 Hz\n",
      "Checking if the given network is valid to be deployed on DYNAP-SE1 chips...\n",
      "Validation complete: the network is good to go!\n",
      "Converted the validated network to a Dynapse1 configuration!\n"
     ]
    },
    {
     "name": "stderr",
     "output_type": "stream",
     "text": [
      " 49%|████▉     | 49/100 [04:44<04:56,  5.81s/it]"
     ]
    },
    {
     "name": "stdout",
     "output_type": "stream",
     "text": [
      "f = 4.790941 Hz\n",
      "Checking if the given network is valid to be deployed on DYNAP-SE1 chips...\n",
      "Validation complete: the network is good to go!\n",
      "Converted the validated network to a Dynapse1 configuration!\n"
     ]
    },
    {
     "name": "stderr",
     "output_type": "stream",
     "text": [
      " 50%|█████     | 50/100 [04:49<04:50,  5.81s/it]"
     ]
    },
    {
     "name": "stdout",
     "output_type": "stream",
     "text": [
      "f = 5.854985 Hz\n",
      "Checking if the given network is valid to be deployed on DYNAP-SE1 chips...\n",
      "Validation complete: the network is good to go!\n",
      "Converted the validated network to a Dynapse1 configuration!\n"
     ]
    },
    {
     "name": "stderr",
     "output_type": "stream",
     "text": [
      " 51%|█████     | 51/100 [04:55<04:44,  5.80s/it]"
     ]
    },
    {
     "name": "stdout",
     "output_type": "stream",
     "text": [
      "f = 5.157963 Hz\n",
      "Checking if the given network is valid to be deployed on DYNAP-SE1 chips...\n",
      "Validation complete: the network is good to go!\n",
      "Converted the validated network to a Dynapse1 configuration!\n"
     ]
    },
    {
     "name": "stderr",
     "output_type": "stream",
     "text": [
      " 52%|█████▏    | 52/100 [05:01<04:38,  5.80s/it]"
     ]
    },
    {
     "name": "stdout",
     "output_type": "stream",
     "text": [
      "f = 5.289886 Hz\n",
      "Checking if the given network is valid to be deployed on DYNAP-SE1 chips...\n",
      "Validation complete: the network is good to go!\n",
      "Converted the validated network to a Dynapse1 configuration!\n"
     ]
    },
    {
     "name": "stderr",
     "output_type": "stream",
     "text": [
      " 53%|█████▎    | 53/100 [05:07<04:32,  5.80s/it]"
     ]
    },
    {
     "name": "stdout",
     "output_type": "stream",
     "text": [
      "f = 4.931929 Hz\n",
      "Checking if the given network is valid to be deployed on DYNAP-SE1 chips...\n",
      "Validation complete: the network is good to go!\n",
      "Converted the validated network to a Dynapse1 configuration!\n"
     ]
    },
    {
     "name": "stderr",
     "output_type": "stream",
     "text": [
      " 54%|█████▍    | 54/100 [05:12<04:26,  5.80s/it]"
     ]
    },
    {
     "name": "stdout",
     "output_type": "stream",
     "text": [
      "f = 4.770300 Hz\n",
      "Checking if the given network is valid to be deployed on DYNAP-SE1 chips...\n",
      "Validation complete: the network is good to go!\n",
      "Converted the validated network to a Dynapse1 configuration!\n"
     ]
    },
    {
     "name": "stderr",
     "output_type": "stream",
     "text": [
      " 55%|█████▌    | 55/100 [05:18<04:20,  5.80s/it]"
     ]
    },
    {
     "name": "stdout",
     "output_type": "stream",
     "text": [
      "f = 5.002084 Hz\n",
      "Checking if the given network is valid to be deployed on DYNAP-SE1 chips...\n",
      "Validation complete: the network is good to go!\n",
      "Converted the validated network to a Dynapse1 configuration!\n"
     ]
    },
    {
     "name": "stderr",
     "output_type": "stream",
     "text": [
      " 56%|█████▌    | 56/100 [05:24<04:15,  5.80s/it]"
     ]
    },
    {
     "name": "stdout",
     "output_type": "stream",
     "text": [
      "f = 5.043871 Hz\n",
      "Checking if the given network is valid to be deployed on DYNAP-SE1 chips...\n",
      "Validation complete: the network is good to go!\n",
      "Converted the validated network to a Dynapse1 configuration!\n"
     ]
    },
    {
     "name": "stderr",
     "output_type": "stream",
     "text": [
      " 57%|█████▋    | 57/100 [05:30<04:09,  5.80s/it]"
     ]
    },
    {
     "name": "stdout",
     "output_type": "stream",
     "text": [
      "f = 5.128205 Hz\n",
      "Checking if the given network is valid to be deployed on DYNAP-SE1 chips...\n",
      "Validation complete: the network is good to go!\n",
      "Converted the validated network to a Dynapse1 configuration!\n"
     ]
    },
    {
     "name": "stderr",
     "output_type": "stream",
     "text": [
      " 58%|█████▊    | 58/100 [05:36<04:04,  5.82s/it]"
     ]
    },
    {
     "name": "stdout",
     "output_type": "stream",
     "text": [
      "f = 4.813981 Hz\n",
      "Checking if the given network is valid to be deployed on DYNAP-SE1 chips...\n",
      "Validation complete: the network is good to go!\n",
      "Converted the validated network to a Dynapse1 configuration!\n"
     ]
    },
    {
     "name": "stderr",
     "output_type": "stream",
     "text": [
      " 59%|█████▉    | 59/100 [05:42<03:58,  5.81s/it]"
     ]
    },
    {
     "name": "stdout",
     "output_type": "stream",
     "text": [
      "f = 5.455308 Hz\n",
      "Checking if the given network is valid to be deployed on DYNAP-SE1 chips...\n",
      "Validation complete: the network is good to go!\n",
      "Converted the validated network to a Dynapse1 configuration!\n"
     ]
    },
    {
     "name": "stderr",
     "output_type": "stream",
     "text": [
      " 60%|██████    | 60/100 [05:47<03:52,  5.80s/it]"
     ]
    },
    {
     "name": "stdout",
     "output_type": "stream",
     "text": [
      "f = 5.053962 Hz\n",
      "Checking if the given network is valid to be deployed on DYNAP-SE1 chips...\n",
      "Validation complete: the network is good to go!\n",
      "Converted the validated network to a Dynapse1 configuration!\n"
     ]
    },
    {
     "name": "stderr",
     "output_type": "stream",
     "text": [
      " 61%|██████    | 61/100 [05:53<03:46,  5.80s/it]"
     ]
    },
    {
     "name": "stdout",
     "output_type": "stream",
     "text": [
      "f = 5.161024 Hz\n",
      "Checking if the given network is valid to be deployed on DYNAP-SE1 chips...\n",
      "Validation complete: the network is good to go!\n",
      "Converted the validated network to a Dynapse1 configuration!\n"
     ]
    },
    {
     "name": "stderr",
     "output_type": "stream",
     "text": [
      " 62%|██████▏   | 62/100 [05:59<03:40,  5.80s/it]"
     ]
    },
    {
     "name": "stdout",
     "output_type": "stream",
     "text": [
      "f = 4.780214 Hz\n",
      "Checking if the given network is valid to be deployed on DYNAP-SE1 chips...\n",
      "Validation complete: the network is good to go!\n",
      "Converted the validated network to a Dynapse1 configuration!\n"
     ]
    },
    {
     "name": "stderr",
     "output_type": "stream",
     "text": [
      " 63%|██████▎   | 63/100 [06:05<03:34,  5.80s/it]"
     ]
    },
    {
     "name": "stdout",
     "output_type": "stream",
     "text": [
      "f = 4.973063 Hz\n",
      "Checking if the given network is valid to be deployed on DYNAP-SE1 chips...\n",
      "Validation complete: the network is good to go!\n",
      "Converted the validated network to a Dynapse1 configuration!\n"
     ]
    },
    {
     "name": "stderr",
     "output_type": "stream",
     "text": [
      " 64%|██████▍   | 64/100 [06:11<03:28,  5.80s/it]"
     ]
    },
    {
     "name": "stdout",
     "output_type": "stream",
     "text": [
      "f = 5.093108 Hz\n",
      "Checking if the given network is valid to be deployed on DYNAP-SE1 chips...\n",
      "Validation complete: the network is good to go!\n",
      "Converted the validated network to a Dynapse1 configuration!\n"
     ]
    },
    {
     "name": "stderr",
     "output_type": "stream",
     "text": [
      " 65%|██████▌   | 65/100 [06:16<03:22,  5.79s/it]"
     ]
    },
    {
     "name": "stdout",
     "output_type": "stream",
     "text": [
      "f = 5.057423 Hz\n",
      "Checking if the given network is valid to be deployed on DYNAP-SE1 chips...\n",
      "Validation complete: the network is good to go!\n",
      "Converted the validated network to a Dynapse1 configuration!\n"
     ]
    },
    {
     "name": "stderr",
     "output_type": "stream",
     "text": [
      " 66%|██████▌   | 66/100 [06:22<03:17,  5.80s/it]"
     ]
    },
    {
     "name": "stdout",
     "output_type": "stream",
     "text": [
      "f = 4.976201 Hz\n",
      "Checking if the given network is valid to be deployed on DYNAP-SE1 chips...\n",
      "Validation complete: the network is good to go!\n",
      "Converted the validated network to a Dynapse1 configuration!\n"
     ]
    },
    {
     "name": "stderr",
     "output_type": "stream",
     "text": [
      " 67%|██████▋   | 67/100 [06:28<03:11,  5.80s/it]"
     ]
    },
    {
     "name": "stdout",
     "output_type": "stream",
     "text": [
      "f = 4.894713 Hz\n",
      "Checking if the given network is valid to be deployed on DYNAP-SE1 chips...\n",
      "Validation complete: the network is good to go!\n",
      "Converted the validated network to a Dynapse1 configuration!\n"
     ]
    },
    {
     "name": "stderr",
     "output_type": "stream",
     "text": [
      " 68%|██████▊   | 68/100 [06:34<03:05,  5.80s/it]"
     ]
    },
    {
     "name": "stdout",
     "output_type": "stream",
     "text": [
      "f = 4.774756 Hz\n",
      "Checking if the given network is valid to be deployed on DYNAP-SE1 chips...\n",
      "Validation complete: the network is good to go!\n",
      "Converted the validated network to a Dynapse1 configuration!\n"
     ]
    },
    {
     "name": "stderr",
     "output_type": "stream",
     "text": [
      " 69%|██████▉   | 69/100 [06:39<02:59,  5.80s/it]"
     ]
    },
    {
     "name": "stdout",
     "output_type": "stream",
     "text": [
      "f = 4.655592 Hz\n",
      "Checking if the given network is valid to be deployed on DYNAP-SE1 chips...\n",
      "Validation complete: the network is good to go!\n",
      "Converted the validated network to a Dynapse1 configuration!\n"
     ]
    },
    {
     "name": "stderr",
     "output_type": "stream",
     "text": [
      " 70%|███████   | 70/100 [06:45<02:54,  5.80s/it]"
     ]
    },
    {
     "name": "stdout",
     "output_type": "stream",
     "text": [
      "f = 4.865151 Hz\n",
      "Checking if the given network is valid to be deployed on DYNAP-SE1 chips...\n",
      "Validation complete: the network is good to go!\n",
      "Converted the validated network to a Dynapse1 configuration!\n"
     ]
    },
    {
     "name": "stderr",
     "output_type": "stream",
     "text": [
      " 71%|███████   | 71/100 [06:51<02:48,  5.80s/it]"
     ]
    },
    {
     "name": "stdout",
     "output_type": "stream",
     "text": [
      "f = 5.117969 Hz\n",
      "Checking if the given network is valid to be deployed on DYNAP-SE1 chips...\n",
      "Validation complete: the network is good to go!\n",
      "Converted the validated network to a Dynapse1 configuration!\n"
     ]
    },
    {
     "name": "stderr",
     "output_type": "stream",
     "text": [
      " 72%|███████▏  | 72/100 [06:57<02:42,  5.80s/it]"
     ]
    },
    {
     "name": "stdout",
     "output_type": "stream",
     "text": [
      "f = 4.846697 Hz\n",
      "Checking if the given network is valid to be deployed on DYNAP-SE1 chips...\n",
      "Validation complete: the network is good to go!\n",
      "Converted the validated network to a Dynapse1 configuration!\n"
     ]
    },
    {
     "name": "stderr",
     "output_type": "stream",
     "text": [
      " 73%|███████▎  | 73/100 [07:03<02:36,  5.80s/it]"
     ]
    },
    {
     "name": "stdout",
     "output_type": "stream",
     "text": [
      "f = 4.999740 Hz\n",
      "Checking if the given network is valid to be deployed on DYNAP-SE1 chips...\n",
      "Validation complete: the network is good to go!\n",
      "Converted the validated network to a Dynapse1 configuration!\n"
     ]
    },
    {
     "name": "stderr",
     "output_type": "stream",
     "text": [
      " 74%|███████▍  | 74/100 [07:08<02:30,  5.80s/it]"
     ]
    },
    {
     "name": "stdout",
     "output_type": "stream",
     "text": [
      "f = 5.347594 Hz\n",
      "Checking if the given network is valid to be deployed on DYNAP-SE1 chips...\n",
      "Validation complete: the network is good to go!\n",
      "Converted the validated network to a Dynapse1 configuration!\n"
     ]
    },
    {
     "name": "stderr",
     "output_type": "stream",
     "text": [
      " 75%|███████▌  | 75/100 [07:14<02:24,  5.80s/it]"
     ]
    },
    {
     "name": "stdout",
     "output_type": "stream",
     "text": [
      "f = 4.968687 Hz\n",
      "Checking if the given network is valid to be deployed on DYNAP-SE1 chips...\n",
      "Validation complete: the network is good to go!\n",
      "Converted the validated network to a Dynapse1 configuration!\n"
     ]
    },
    {
     "name": "stderr",
     "output_type": "stream",
     "text": [
      " 76%|███████▌  | 76/100 [07:20<02:18,  5.79s/it]"
     ]
    },
    {
     "name": "stdout",
     "output_type": "stream",
     "text": [
      "f = 4.975898 Hz\n",
      "Checking if the given network is valid to be deployed on DYNAP-SE1 chips...\n",
      "Validation complete: the network is good to go!\n",
      "Converted the validated network to a Dynapse1 configuration!\n"
     ]
    },
    {
     "name": "stderr",
     "output_type": "stream",
     "text": [
      " 77%|███████▋  | 77/100 [07:26<02:13,  5.78s/it]"
     ]
    },
    {
     "name": "stdout",
     "output_type": "stream",
     "text": [
      "f = 4.882191 Hz\n",
      "Checking if the given network is valid to be deployed on DYNAP-SE1 chips...\n",
      "Validation complete: the network is good to go!\n",
      "Converted the validated network to a Dynapse1 configuration!\n"
     ]
    },
    {
     "name": "stderr",
     "output_type": "stream",
     "text": [
      " 78%|███████▊  | 78/100 [07:32<02:07,  5.79s/it]"
     ]
    },
    {
     "name": "stdout",
     "output_type": "stream",
     "text": [
      "f = 5.168493 Hz\n",
      "Checking if the given network is valid to be deployed on DYNAP-SE1 chips...\n",
      "Validation complete: the network is good to go!\n",
      "Converted the validated network to a Dynapse1 configuration!\n"
     ]
    },
    {
     "name": "stderr",
     "output_type": "stream",
     "text": [
      " 79%|███████▉  | 79/100 [07:37<02:01,  5.79s/it]"
     ]
    },
    {
     "name": "stdout",
     "output_type": "stream",
     "text": [
      "f = 4.964062 Hz\n",
      "Checking if the given network is valid to be deployed on DYNAP-SE1 chips...\n",
      "Validation complete: the network is good to go!\n",
      "Converted the validated network to a Dynapse1 configuration!\n"
     ]
    },
    {
     "name": "stderr",
     "output_type": "stream",
     "text": [
      " 80%|████████  | 80/100 [07:43<01:55,  5.79s/it]"
     ]
    },
    {
     "name": "stdout",
     "output_type": "stream",
     "text": [
      "f = 5.735061 Hz\n",
      "Checking if the given network is valid to be deployed on DYNAP-SE1 chips...\n",
      "Validation complete: the network is good to go!\n",
      "Converted the validated network to a Dynapse1 configuration!\n"
     ]
    },
    {
     "name": "stderr",
     "output_type": "stream",
     "text": [
      " 81%|████████  | 81/100 [07:49<01:50,  5.79s/it]"
     ]
    },
    {
     "name": "stdout",
     "output_type": "stream",
     "text": [
      "f = 4.791667 Hz\n",
      "Checking if the given network is valid to be deployed on DYNAP-SE1 chips...\n",
      "Validation complete: the network is good to go!\n",
      "Converted the validated network to a Dynapse1 configuration!\n"
     ]
    },
    {
     "name": "stderr",
     "output_type": "stream",
     "text": [
      " 82%|████████▏ | 82/100 [07:55<01:44,  5.80s/it]"
     ]
    },
    {
     "name": "stdout",
     "output_type": "stream",
     "text": [
      "f = 4.959446 Hz\n",
      "Checking if the given network is valid to be deployed on DYNAP-SE1 chips...\n",
      "Validation complete: the network is good to go!\n",
      "Converted the validated network to a Dynapse1 configuration!\n"
     ]
    },
    {
     "name": "stderr",
     "output_type": "stream",
     "text": [
      " 83%|████████▎ | 83/100 [08:01<01:38,  5.81s/it]"
     ]
    },
    {
     "name": "stdout",
     "output_type": "stream",
     "text": [
      "f = 5.107741 Hz\n",
      "Checking if the given network is valid to be deployed on DYNAP-SE1 chips...\n",
      "Validation complete: the network is good to go!\n",
      "Converted the validated network to a Dynapse1 configuration!\n"
     ]
    },
    {
     "name": "stderr",
     "output_type": "stream",
     "text": [
      " 84%|████████▍ | 84/100 [08:06<01:32,  5.80s/it]"
     ]
    },
    {
     "name": "stdout",
     "output_type": "stream",
     "text": [
      "f = 4.978478 Hz\n",
      "Checking if the given network is valid to be deployed on DYNAP-SE1 chips...\n",
      "Validation complete: the network is good to go!\n",
      "Converted the validated network to a Dynapse1 configuration!\n"
     ]
    },
    {
     "name": "stderr",
     "output_type": "stream",
     "text": [
      " 85%|████████▌ | 85/100 [08:12<01:26,  5.79s/it]"
     ]
    },
    {
     "name": "stdout",
     "output_type": "stream",
     "text": [
      "f = 4.826863 Hz\n",
      "Checking if the given network is valid to be deployed on DYNAP-SE1 chips...\n",
      "Validation complete: the network is good to go!\n",
      "Converted the validated network to a Dynapse1 configuration!\n"
     ]
    },
    {
     "name": "stderr",
     "output_type": "stream",
     "text": [
      " 86%|████████▌ | 86/100 [08:18<01:21,  5.80s/it]"
     ]
    },
    {
     "name": "stdout",
     "output_type": "stream",
     "text": [
      "f = 5.069976 Hz\n",
      "Checking if the given network is valid to be deployed on DYNAP-SE1 chips...\n",
      "Validation complete: the network is good to go!\n",
      "Converted the validated network to a Dynapse1 configuration!\n"
     ]
    },
    {
     "name": "stderr",
     "output_type": "stream",
     "text": [
      " 87%|████████▋ | 87/100 [08:24<01:15,  5.80s/it]"
     ]
    },
    {
     "name": "stdout",
     "output_type": "stream",
     "text": [
      "f = 5.110733 Hz\n",
      "Checking if the given network is valid to be deployed on DYNAP-SE1 chips...\n",
      "Validation complete: the network is good to go!\n",
      "Converted the validated network to a Dynapse1 configuration!\n"
     ]
    },
    {
     "name": "stderr",
     "output_type": "stream",
     "text": [
      " 88%|████████▊ | 88/100 [08:30<01:09,  5.80s/it]"
     ]
    },
    {
     "name": "stdout",
     "output_type": "stream",
     "text": [
      "f = 5.758651 Hz\n",
      "Checking if the given network is valid to be deployed on DYNAP-SE1 chips...\n",
      "Validation complete: the network is good to go!\n",
      "Converted the validated network to a Dynapse1 configuration!\n"
     ]
    },
    {
     "name": "stderr",
     "output_type": "stream",
     "text": [
      " 89%|████████▉ | 89/100 [08:35<01:03,  5.79s/it]"
     ]
    },
    {
     "name": "stdout",
     "output_type": "stream",
     "text": [
      "f = 5.254309 Hz\n",
      "Checking if the given network is valid to be deployed on DYNAP-SE1 chips...\n",
      "Validation complete: the network is good to go!\n",
      "Converted the validated network to a Dynapse1 configuration!\n"
     ]
    },
    {
     "name": "stderr",
     "output_type": "stream",
     "text": [
      " 90%|█████████ | 90/100 [08:41<00:58,  5.81s/it]"
     ]
    },
    {
     "name": "stdout",
     "output_type": "stream",
     "text": [
      "f = 5.009131 Hz\n",
      "Checking if the given network is valid to be deployed on DYNAP-SE1 chips...\n",
      "Validation complete: the network is good to go!\n",
      "Converted the validated network to a Dynapse1 configuration!\n"
     ]
    },
    {
     "name": "stderr",
     "output_type": "stream",
     "text": [
      " 91%|█████████ | 91/100 [08:47<00:52,  5.80s/it]"
     ]
    },
    {
     "name": "stdout",
     "output_type": "stream",
     "text": [
      "f = 4.979702 Hz\n",
      "Checking if the given network is valid to be deployed on DYNAP-SE1 chips...\n",
      "Validation complete: the network is good to go!\n",
      "Converted the validated network to a Dynapse1 configuration!\n"
     ]
    },
    {
     "name": "stderr",
     "output_type": "stream",
     "text": [
      " 92%|█████████▏| 92/100 [08:53<00:46,  5.80s/it]"
     ]
    },
    {
     "name": "stdout",
     "output_type": "stream",
     "text": [
      "f = 5.045462 Hz\n",
      "Checking if the given network is valid to be deployed on DYNAP-SE1 chips...\n",
      "Validation complete: the network is good to go!\n",
      "Converted the validated network to a Dynapse1 configuration!\n"
     ]
    },
    {
     "name": "stderr",
     "output_type": "stream",
     "text": [
      " 93%|█████████▎| 93/100 [08:59<00:40,  5.80s/it]"
     ]
    },
    {
     "name": "stdout",
     "output_type": "stream",
     "text": [
      "f = 5.074264 Hz\n",
      "Checking if the given network is valid to be deployed on DYNAP-SE1 chips...\n",
      "Validation complete: the network is good to go!\n",
      "Converted the validated network to a Dynapse1 configuration!\n"
     ]
    },
    {
     "name": "stderr",
     "output_type": "stream",
     "text": [
      " 94%|█████████▍| 94/100 [09:04<00:34,  5.80s/it]"
     ]
    },
    {
     "name": "stdout",
     "output_type": "stream",
     "text": [
      "f = 4.866673 Hz\n",
      "Checking if the given network is valid to be deployed on DYNAP-SE1 chips...\n",
      "Validation complete: the network is good to go!\n",
      "Converted the validated network to a Dynapse1 configuration!\n"
     ]
    },
    {
     "name": "stderr",
     "output_type": "stream",
     "text": [
      " 95%|█████████▌| 95/100 [09:10<00:28,  5.79s/it]"
     ]
    },
    {
     "name": "stdout",
     "output_type": "stream",
     "text": [
      "f = 5.502937 Hz\n",
      "Checking if the given network is valid to be deployed on DYNAP-SE1 chips...\n",
      "Validation complete: the network is good to go!\n",
      "Converted the validated network to a Dynapse1 configuration!\n"
     ]
    },
    {
     "name": "stderr",
     "output_type": "stream",
     "text": [
      " 96%|█████████▌| 96/100 [09:16<00:23,  5.80s/it]"
     ]
    },
    {
     "name": "stdout",
     "output_type": "stream",
     "text": [
      "f = 5.812143 Hz\n",
      "Checking if the given network is valid to be deployed on DYNAP-SE1 chips...\n",
      "Validation complete: the network is good to go!\n",
      "Converted the validated network to a Dynapse1 configuration!\n"
     ]
    },
    {
     "name": "stderr",
     "output_type": "stream",
     "text": [
      " 97%|█████████▋| 97/100 [09:22<00:17,  5.80s/it]"
     ]
    },
    {
     "name": "stdout",
     "output_type": "stream",
     "text": [
      "f = 5.096623 Hz\n",
      "Checking if the given network is valid to be deployed on DYNAP-SE1 chips...\n",
      "Validation complete: the network is good to go!\n",
      "Converted the validated network to a Dynapse1 configuration!\n"
     ]
    },
    {
     "name": "stderr",
     "output_type": "stream",
     "text": [
      " 98%|█████████▊| 98/100 [09:28<00:11,  5.81s/it]"
     ]
    },
    {
     "name": "stdout",
     "output_type": "stream",
     "text": [
      "f = 4.754768 Hz\n",
      "Checking if the given network is valid to be deployed on DYNAP-SE1 chips...\n",
      "Validation complete: the network is good to go!\n",
      "Converted the validated network to a Dynapse1 configuration!\n"
     ]
    },
    {
     "name": "stderr",
     "output_type": "stream",
     "text": [
      " 99%|█████████▉| 99/100 [09:33<00:05,  5.80s/it]"
     ]
    },
    {
     "name": "stdout",
     "output_type": "stream",
     "text": [
      "f = 4.796686 Hz\n",
      "Checking if the given network is valid to be deployed on DYNAP-SE1 chips...\n",
      "Validation complete: the network is good to go!\n",
      "Converted the validated network to a Dynapse1 configuration!\n"
     ]
    },
    {
     "name": "stderr",
     "output_type": "stream",
     "text": [
      "100%|██████████| 100/100 [09:39<00:00,  5.80s/it]"
     ]
    },
    {
     "name": "stdout",
     "output_type": "stream",
     "text": [
      "f = 4.977446 Hz\n"
     ]
    },
    {
     "name": "stderr",
     "output_type": "stream",
     "text": [
      "\n"
     ]
    }
   ],
   "source": [
    "number_oscillators = 100\n",
    "frequencies = np.zeros(number_oscillators)\n",
    "ids_E = np.zeros((number_oscillators,16))\n",
    "ids_I = np.zeros((number_oscillators,4))\n",
    "\n",
    "for i in tqdm.tqdm(range(number_oscillators)):\n",
    "\tosc = oscillator.get_random_oscillator(dynapse, 16, 2, [0,2])\n",
    "\tosc.start()\n",
    "\tids_E[i] = osc.neuron_ids_E\n",
    "\tids_I[i] = osc.neuron_ids_I\n",
    "\n",
    "\tdynapse.start_graph()\n",
    "\n",
    "\tparameters.set_all_default_params(model)\n",
    "\tosc.set_default_params()\n",
    "\tosc.set_E_DC_input(2,40)\n",
    "\tosc.set_I_AMPA(5,100)\n",
    "\n",
    "\tspikes = dynapse.run_simulation(5)\n",
    "\n",
    "\tfrequency = oscillator_analysis.get_oscillator_frequency(spikes, dynapse.monitored_neuron_groups[1])\n",
    "\tfrequencies[i] = frequency\n",
    "\tprint(f'f = {frequency:4f} Hz')\n"
   ]
  },
  {
   "cell_type": "code",
   "execution_count": 14,
   "metadata": {},
   "outputs": [],
   "source": [
    "frequencies\n",
    "np.save('oscillator-frequencies', frequencies)"
   ]
  },
  {
   "cell_type": "code",
   "execution_count": 17,
   "metadata": {},
   "outputs": [
    {
     "data": {
      "image/png": "[encoded data removed]",
      "text/plain": "<Figure size 576x396 with 1 Axes>"
     },
     "metadata": {},
     "output_type": "display_data"
    }
   ],
   "source": [
    "frequencies = np.load('oscillator-frequencies.npy')\n",
    "plt.style.use('seaborn')\n",
    "plt.hist(frequencies,None)\n",
    "plt.title('Distribution of 100 random oscillator frequencies')\n",
    "plt.xlabel('Oscillation frequency (Hz)')\n",
    "plt.show()"
   ]
  },
  {
   "cell_type": "code",
   "execution_count": 16,
   "metadata": {},
   "outputs": [
    {
     "data": {
      "image/png": "[encoded data removed]",
      "text/plain": "<Figure size 576x396 with 1 Axes>"
     },
     "metadata": {},
     "output_type": "display_data"
    }
   ],
   "source": [
    "plt.boxplot(frequencies)\n",
    "plt.show()"
   ]
  },
  {
   "cell_type": "code",
   "execution_count": 23,
   "metadata": {},
   "outputs": [
    {
     "data": {
      "image/png": "[encoded data removed]",
      "text/plain": "<Figure size 576x396 with 1 Axes>"
     },
     "metadata": {},
     "output_type": "display_data"
    },
    {
     "data": {
      "image/png": "[encoded data removed]",
      "text/plain": "<Figure size 576x396 with 1 Axes>"
     },
     "metadata": {},
     "output_type": "display_data"
    }
   ],
   "source": [
    "plt.hist(ids_E.flatten(),np.arange(1,256))\n",
    "plt.show()\n",
    "\n",
    "plt.hist(ids_I.flatten(),np.arange(1,256))\n",
    "plt.show()"
   ]
  }
 ],
 "metadata": {
  "kernelspec": {
   "display_name": "Python 3.8.5 64-bit",
   "name": "python385jvsc74a57bd031f2aee4e71d21fbe5cf8b01ff0e069b9275f58929596ceb00d14d90e3e16cd6"
  },
  "language_info": {
   "codemirror_mode": {
    "name": "ipython",
    "version": 3
   },
   "file_extension": ".py",
   "mimetype": "text/x-python",
   "name": "python",
   "nbconvert_exporter": "python",
   "pygments_lexer": "ipython3",
   "version": "3.8.5"
  },
  "metadata": {
   "interpreter": {
    "hash": "31f2aee4e71d21fbe5cf8b01ff0e069b9275f58929596ceb00d14d90e3e16cd6"
   }
  },
  "orig_nbformat": 2
 },
 "nbformat": 4,
 "nbformat_minor": 2
}